{
 "cells": [
  {
   "cell_type": "code",
   "execution_count": 91,
   "id": "07fe504f-a636-44b4-945e-e390cd62cd2b",
   "metadata": {},
   "outputs": [],
   "source": [
    "import cv2\n",
    "import os\n",
    "import csv\n",
    "import numpy as np\n",
    "import mediapipe as mp\n",
    "from matplotlib import pyplot as plt\n",
    "import time"
   ]
  },
  {
   "cell_type": "code",
   "execution_count": 92,
   "id": "c86166a4-2bf4-48d1-9797-579f01982208",
   "metadata": {},
   "outputs": [],
   "source": [
    "mp_drawing = mp.solutions.drawing_utils\n",
    "mp_holistic = mp.solutions.holistic"
   ]
  },
  {
   "cell_type": "code",
   "execution_count": 93,
   "id": "5b7d787f-3302-4c74-9ea4-40ae9d9fd63a",
   "metadata": {},
   "outputs": [],
   "source": [
    "def mediapipe_detection(frame, model):\n",
    "    image = cv2.cvtColor(frame, cv2.COLOR_BGR2RGB)\n",
    "    image.flags.writeable = False\n",
    "    results = model.process(image)\n",
    "    image.flags.writeable = True\n",
    "    image = cv2.cvtColor(frame, cv2.COLOR_RGB2BGR)\n",
    "    return image, results"
   ]
  },
  {
   "cell_type": "code",
   "execution_count": 94,
   "id": "787e362f-411a-4ad2-974a-54c507e44668",
   "metadata": {},
   "outputs": [],
   "source": [
    "def draw_landmarks(image, results):\n",
    "    mp_drawing.draw_landmarks(image, results.pose_landmarks, mp_holistic.POSE_CONNECTIONS)\n",
    "   # mp_drawing.draw_landmarks(image, results.face_landmarks, mp_holistic.FACE_CONNECTIONS)\n",
    "    mp_drawing.draw_landmarks(image, results.right_hand_landmarks, mp_holistic.HAND_CONNECTIONS)\n",
    "    mp_drawing.draw_landmarks(image, results.left_hand_landmarks, mp_holistic.HAND_CONNECTIONS)"
   ]
  },
  {
   "cell_type": "code",
   "execution_count": 171,
   "id": "e63decb8-827e-4878-90c0-2b947a7a333d",
   "metadata": {},
   "outputs": [],
   "source": [
    "def record_landmarks(results, action):\n",
    "    try:\n",
    "        '''\n",
    "        pose = results.pose_landmarks.landmark\n",
    "        pose_row = list(np.array([[landmark.x, landmark.y, landmark.z, landmark.visibility] for landmark in pose]).flatten())\n",
    "\n",
    "        right_hand = results.right_hand_landmarks.landmark\n",
    "        right_hand_row = list(np.array([[landmark.x, landmark.y, landmark.z, landmark.visibility] for landmark in right_hand]).flatten())\n",
    "\n",
    "        left_hand = results.left_hand_landmarks.landmark\n",
    "        left_hand_row = list(np.array([[landmark.x, landmark.y, landmark.z, landmark.visibility] for landmark in left_hand]).flatten())\n",
    "        '''\n",
    "\n",
    "        if results.pose_landmarks:\n",
    "            pose_row = list(np.array([[res.x, res.y, res.z, res.visibility] for res in results.pose_landmarks.landmark]).flatten())\n",
    "        else:\n",
    "            pose_row = list(np.zeros(132).flatten())\n",
    "        \n",
    "        if results.left_hand_landmarks:\n",
    "            lh_row = list(np.array([[res.x, res.y, res.z, res.visibility] for res in results.left_hand_landmarks.landmark]).flatten())\n",
    "        else:\n",
    "            lh_row = list(np.zeros(84).flatten())\n",
    "        \n",
    "        if results.right_hand_landmarks:\n",
    "            rh_row = list(np.array([[res.x, res.y, res.z, res.visibility] for res in results.right_hand_landmarks.landmark]).flatten())\n",
    "        else:\n",
    "            rh_row = list(np.zeros(84).flatten())\n",
    "        \n",
    "        row = pose_row + right_hand_row + left_hand_row\n",
    "        row.insert(0, action)\n",
    "\n",
    "        with open('coords.csv', mode='a', newline='') as f:\n",
    "            csv_writer_obj = csv.writer(f, delimiter=',', quotechar='\"', quoting=csv.QUOTE_MINIMAL)\n",
    "            csv_writer_obj.writerow(row)\n",
    "            \n",
    "    except:\n",
    "        pass        "
   ]
  },
  {
   "cell_type": "code",
   "execution_count": 124,
   "id": "37d67308-0557-4e3c-89e8-f3d5e4cde40c",
   "metadata": {},
   "outputs": [
    {
     "data": {
      "text/plain": [
       "132"
      ]
     },
     "execution_count": 124,
     "metadata": {},
     "output_type": "execute_result"
    }
   ],
   "source": [
    "len(results.pose_landmarks.landmark)*4"
   ]
  },
  {
   "cell_type": "markdown",
   "id": "1e25b7eb-f36e-40e3-bdd7-4b26260c152d",
   "metadata": {},
   "source": [
    "# Testing Camera and recording"
   ]
  },
  {
   "cell_type": "code",
   "execution_count": 175,
   "id": "0cb13b8f-ddd8-452f-b9e4-5e6e09bfb7c3",
   "metadata": {},
   "outputs": [],
   "source": [
    "#TESTING CAMERA\n",
    "\n",
    "cam = cv2.VideoCapture(0)\n",
    "with mp_holistic.Holistic(min_detection_confidence=0.8, min_tracking_confidence=0.5) as holistic:\n",
    "    while cam.isOpened():\n",
    "        ret, frame = cam.read()\n",
    "    \n",
    "        image, results = mediapipe_detection(frame, holistic)\n",
    "        \n",
    "        draw_landmarks(image, results)\n",
    "        \n",
    "        cv2.imshow(\"Sign Language Converter\", cv2.cvtColor(image, cv2.COLOR_BGR2RGB))\n",
    "        #print(results.right_hand_landmarks) \n",
    "        if cv2.waitKey(10) & 0xFF == ord('q'):\n",
    "            break\n",
    "\n",
    "cam.release()\n",
    "cv2.destroyAllWindows()"
   ]
  },
  {
   "cell_type": "code",
   "execution_count": 26,
   "id": "75444a6c-d32f-4f2f-acf2-b3656e40bade",
   "metadata": {},
   "outputs": [],
   "source": [
    "cam.release()\n",
    "cv2.destroyAllWindows()"
   ]
  },
  {
   "cell_type": "code",
   "execution_count": 179,
   "id": "0ed9f6ef-d54f-415c-a6fd-1a4ea94828cb",
   "metadata": {},
   "outputs": [],
   "source": [
    "#CREATE HEADER IN CSV\n",
    "NUM_COORDS = 75\n",
    "#num_coords = len(results.pose_landmarks.landmark) + len(results.right_hand_landmarks.landmark) + len(results.left_hand_landmarks.landmark)\n",
    "header_list = [\"action\"]\n",
    "for i in range(1, NUM_COORDS+1):\n",
    "    header_list += [\"x{}\".format(i),\"y{}\".format(i),\"z{}\".format(i),\"v{}\".format(i)]\n",
    "\n",
    "with open('coords.csv', mode='w', newline='') as f:\n",
    "    csv_writer_obj = csv.writer(f, delimiter=',', quotechar='\"', quoting=csv.QUOTE_MINIMAL)\n",
    "    csv_writer_obj.writerow(header_list)"
   ]
  },
  {
   "cell_type": "code",
   "execution_count": 290,
   "id": "c0277c3a-ab1f-456e-9dfd-babd7961b13c",
   "metadata": {},
   "outputs": [],
   "source": [
    "#TEST\n",
    "NUM_COORDS = 75\n",
    "#num_coords = len(results.pose_landmarks.landmark) + len(results.right_hand_landmarks.landmark) + len(results.left_hand_landmarks.landmark)\n",
    "header_list = [\"action\"]\n",
    "for i in range(1, NUM_COORDS+1):\n",
    "    header_list += [\"x{}\".format(i),\"y{}\".format(i),\"z{}\".format(i),\"v{}\".format(i)]\n",
    "\n",
    "with open('coordsTESTadd.csv', mode='w', newline='') as f:\n",
    "    csv_writer_obj = csv.writer(f, delimiter=',', quotechar='\"', quoting=csv.QUOTE_MINIMAL)\n",
    "    csv_writer_obj.writerow(header_list)"
   ]
  },
  {
   "cell_type": "code",
   "execution_count": 195,
   "id": "7ac530e6-a2ea-415a-93cd-e3b9d61ae947",
   "metadata": {},
   "outputs": [],
   "source": [
    "DATA_PATH = os.path.join('MP_data')\n",
    "actions = np.array([\"CallPolice\", \"Emergency\"])\n",
    "no_sequences = 30\n",
    "sequence_length = 120"
   ]
  },
  {
   "cell_type": "code",
   "execution_count": 196,
   "id": "a2fc06b0-cdf2-4299-9beb-0e7e8f4925fc",
   "metadata": {},
   "outputs": [],
   "source": [
    "#recording per sequence\n",
    "\n",
    "cam = cv2.VideoCapture(0)\n",
    "\n",
    "with mp_holistic.Holistic(min_detection_confidence=0.8, min_tracking_confidence=0.5) as holistic:\n",
    "    \n",
    "    for action in actions:\n",
    "        for sequence in range(no_sequences):\n",
    "            for frame_no in range(sequence_length):\n",
    "                \n",
    "                ret, frame = cam.read()\n",
    "                image, results = mediapipe_detection(frame, holistic)\n",
    "                draw_landmarks(image, results)\n",
    "                \n",
    "                #print(results.right_hand_landmarks)\n",
    "                #extract_keypoints(results)\n",
    "                if frame_no == 0:\n",
    "                    cv2.putText(image, \"Collecting Video for {} Video number {}\".format(action, sequence), (15,12), cv2.FONT_HERSHEY_SIMPLEX, 0.5, (255,0,0), 1, cv2.LINE_AA)\n",
    "                    cv2.waitKey(2000)\n",
    "                else:\n",
    "                     cv2.putText(image, \"Collecting Video for {} Video number {}\".format(action, sequence), (15,12), cv2.FONT_HERSHEY_SIMPLEX, 0.5, (255,0,0), 1, cv2.LINE_AA)\n",
    "\n",
    "                record_landmarks(results, action)\n",
    "                #npy_path = os.path.join(DATA_PATH, action, str(sequence), str(frame_no))\n",
    "                #np.save(npy_path, keypoints)\n",
    "                \n",
    "                cv2.imshow(\"Input Sign Language\", cv2.cvtColor(image, cv2.COLOR_BGR2RGB))\n",
    "                \n",
    "                if cv2.waitKey(10) & 0xFF == ord('q'):\n",
    "                    cam.release()\n",
    "                    cv2.destroyAllWindows()\n",
    "\n",
    "    cam.release()\n",
    "    cv2.destroyAllWindows()"
   ]
  },
  {
   "cell_type": "code",
   "execution_count": 60,
   "id": "d4e88e3e-040f-4960-ae57-23ca2bc15aae",
   "metadata": {},
   "outputs": [],
   "source": [
    "#RECORDING WITHOUT ANY SEQUENCE\n",
    "\n",
    "cam = cv2.VideoCapture(0)\n",
    "with mp_holistic.Holistic(min_detection_confidence=0.8, min_tracking_confidence=0.5) as holistic:\n",
    "    while cam.isOpened():\n",
    "        ret, frame = cam.read()\n",
    "    \n",
    "        image, results = mediapipe_detection(frame, holistic)\n",
    "        \n",
    "        draw_landmarks(image, results)\n",
    "\n",
    "        record_landmarks(results)\n",
    "        \n",
    "        cv2.imshow(\"Sign Language Converter\", cv2.cvtColor(image, cv2.COLOR_BGR2RGB))\n",
    "        #print(results.right_hand_landmarks) \n",
    "        if cv2.waitKey(10) & 0xFF == ord('q'):\n",
    "            break\n",
    "\n",
    "cam.release()\n",
    "cv2.destroyAllWindows()"
   ]
  },
  {
   "cell_type": "markdown",
   "id": "3338b1b5-aa07-4908-9499-cfe6635c2999",
   "metadata": {},
   "source": [
    "# SPLIT DATA"
   ]
  },
  {
   "cell_type": "code",
   "execution_count": 260,
   "id": "e3d72bd4-f433-4de9-961b-169214b9ee52",
   "metadata": {},
   "outputs": [],
   "source": [
    "import pandas as pd\n",
    "from sklearn.model_selection import train_test_split"
   ]
  },
  {
   "cell_type": "code",
   "execution_count": 293,
   "id": "dfd8c884-619a-4d10-933e-fa16e48e51ca",
   "metadata": {},
   "outputs": [],
   "source": [
    "df = pd.read_csv(\"coordsTESTadd.csv\")"
   ]
  },
  {
   "cell_type": "code",
   "execution_count": 294,
   "id": "56323438-2c6a-43ad-be49-7ad5b147f984",
   "metadata": {},
   "outputs": [],
   "source": [
    "X = df.drop('action', axis=1) #feature\n",
    "y = df['action'] #target \n",
    "X_train, X_test, y_train, y_test = train_test_split(X, y, test_size=0.1, random_state=1234)"
   ]
  },
  {
   "cell_type": "code",
   "execution_count": 295,
   "id": "344bd5c9-6c11-46bb-a428-fd760d27b55c",
   "metadata": {},
   "outputs": [],
   "source": [
    "from sklearn.pipeline import make_pipeline\n",
    "from sklearn.preprocessing import StandardScaler\n",
    "\n",
    "from sklearn.linear_model import LogisticRegression, RidgeClassifier\n",
    "from sklearn.ensemble import RandomForestClassifier, GradientBoostingClassifier\n",
    "\n",
    "from sklearn.metrics import accuracy_score\n",
    "import pickle\n"
   ]
  },
  {
   "cell_type": "code",
   "execution_count": 296,
   "id": "6b701682-57aa-4623-b8e1-758462c0d1e6",
   "metadata": {},
   "outputs": [],
   "source": [
    "#TRAINING\n",
    "\n",
    "pipelines = {\n",
    "    'lr' : make_pipeline(StandardScaler(), LogisticRegression()),\n",
    "    'rc' : make_pipeline(StandardScaler(), RidgeClassifier()),\n",
    "    'rf' : make_pipeline(StandardScaler(), RandomForestClassifier()),\n",
    "    'gb' : make_pipeline(StandardScaler(), GradientBoostingClassifier()),\n",
    "}"
   ]
  },
  {
   "cell_type": "code",
   "execution_count": 298,
   "id": "ba338d39-2e29-43ef-83df-1ba1b8f32114",
   "metadata": {},
   "outputs": [],
   "source": [
    "fit_models = {}\n",
    "for algo, pipeline in pipelines.items():\n",
    "    model = pipeline.fit(X_train, y_train)\n",
    "    fit_models[algo] = model"
   ]
  },
  {
   "cell_type": "code",
   "execution_count": 299,
   "id": "b0260de3-5b9a-4594-8fa2-51d681ec12a6",
   "metadata": {},
   "outputs": [
    {
     "name": "stdout",
     "output_type": "stream",
     "text": [
      "lr 1.0\n",
      "rc 1.0\n",
      "rf 1.0\n",
      "gb 1.0\n"
     ]
    }
   ],
   "source": [
    "for algo, model in fit_models.items():\n",
    "    yhat = model.predict(X_test)\n",
    "    print(algo, accuracy_score(y_test, yhat))"
   ]
  },
  {
   "cell_type": "code",
   "execution_count": 303,
   "id": "6240b238-df6d-4e02-9bba-4305cfe089d5",
   "metadata": {},
   "outputs": [
    {
     "data": {
      "text/plain": [
       "array(['Hurt', 'Ambulance', 'Ambulance', 'Doctor', 'Ambulance', 'Mom',\n",
       "       'Hurt', 'Mom', 'Ambulance', 'Doctor', 'Mom', 'Mom', 'Mom',\n",
       "       'Doctor', 'Doctor', 'Allergy', 'Doctor', 'Doctor', 'Mom',\n",
       "       'Allergy', 'Doctor', 'Allergy', 'Hurt', 'Hurt', 'Mom', 'Mom',\n",
       "       'Doctor', 'Allergy', 'Allergy', 'Mom', 'Allergy', 'Hurt', 'Mom',\n",
       "       'Mom', 'Hurt', 'Hurt', 'Mom', 'Ambulance', 'Hurt', 'Hurt', 'Mom',\n",
       "       'Allergy', 'Mom', 'Hurt', 'Mom', 'Hurt', 'Allergy', 'Hurt', 'Hurt',\n",
       "       'Allergy', 'Ambulance', 'Ambulance', 'Ambulance', 'Ambulance',\n",
       "       'Doctor', 'Hurt', 'Doctor', 'Hurt', 'Allergy', 'Doctor',\n",
       "       'Ambulance', 'Mom', 'Mom', 'Ambulance', 'Ambulance', 'Allergy',\n",
       "       'Doctor', 'Allergy', 'Ambulance', 'Doctor', 'Ambulance',\n",
       "       'Ambulance', 'Mom', 'Ambulance', 'Doctor', 'Allergy', 'Doctor',\n",
       "       'Doctor', 'Ambulance', 'Allergy', 'Ambulance', 'Doctor', 'Hurt',\n",
       "       'Doctor', 'Ambulance', 'Ambulance', 'Hurt', 'Ambulance',\n",
       "       'Ambulance', 'Allergy', 'Mom', 'Ambulance', 'Mom', 'Mom', 'Hurt',\n",
       "       'Allergy', 'Allergy', 'Allergy', 'Doctor', 'Doctor', 'Allergy',\n",
       "       'Mom', 'Mom', 'Allergy', 'Doctor', 'Mom', 'Hurt', 'Ambulance',\n",
       "       'Allergy', 'Mom', 'Mom', 'Hurt', 'Mom', 'Hurt', 'Allergy', 'Hurt',\n",
       "       'Mom', 'Mom', 'Allergy', 'Allergy', 'Doctor', 'Hurt', 'Ambulance',\n",
       "       'Allergy', 'Ambulance', 'Mom', 'Hurt', 'Ambulance', 'Mom', 'Hurt',\n",
       "       'Ambulance', 'Doctor', 'Mom', 'Doctor', 'Allergy', 'Doctor',\n",
       "       'Ambulance', 'Ambulance', 'Ambulance', 'Doctor', 'Doctor', 'Mom',\n",
       "       'Mom', 'Allergy', 'Doctor', 'Hurt', 'Allergy', 'Hurt', 'Doctor',\n",
       "       'Hurt'], dtype=object)"
      ]
     },
     "execution_count": 303,
     "metadata": {},
     "output_type": "execute_result"
    }
   ],
   "source": [
    "fit_models['rf'].predict(X_test)"
   ]
  },
  {
   "cell_type": "code",
   "execution_count": 304,
   "id": "b036335b-5243-41c7-a8b3-34ba8271b5bf",
   "metadata": {},
   "outputs": [
    {
     "data": {
      "text/plain": [
       "78           Hurt\n",
       "366     Ambulance\n",
       "351     Ambulance\n",
       "755        Doctor\n",
       "564     Ambulance\n",
       "          ...    \n",
       "183          Hurt\n",
       "1294      Allergy\n",
       "188          Hurt\n",
       "889        Doctor\n",
       "0            Hurt\n",
       "Name: action, Length: 150, dtype: object"
      ]
     },
     "execution_count": 304,
     "metadata": {},
     "output_type": "execute_result"
    }
   ],
   "source": [
    "y_test"
   ]
  },
  {
   "cell_type": "code",
   "execution_count": 289,
   "id": "8d58359f-0c95-4f18-b451-7c4d402536d8",
   "metadata": {},
   "outputs": [],
   "source": [
    "with open('body_languageTEST.pkl', 'wb') as f:\n",
    "    pickle.dump(fit_models['rf'], f)"
   ]
  },
  {
   "cell_type": "code",
   "execution_count": 302,
   "id": "2bdf6cf9-e06b-4597-ba56-bc999277b4ea",
   "metadata": {},
   "outputs": [],
   "source": [
    "with open('body_languageTEST.pkl', 'rb') as f:\n",
    "    model = pickle.load(f)"
   ]
  },
  {
   "cell_type": "code",
   "execution_count": 328,
   "id": "535ed2b2-1f0c-4862-a596-49100e906874",
   "metadata": {},
   "outputs": [
    {
     "data": {
      "text/plain": [
       "array(['Hurt', 'Ambulance', 'Ambulance', 'Doctor', 'Ambulance', 'Mom',\n",
       "       'Hurt', 'Mom', 'Ambulance', 'Doctor', 'Mom', 'Mom', 'Mom',\n",
       "       'Doctor', 'Doctor', 'Allergy', 'Doctor', 'Doctor', 'Mom',\n",
       "       'Allergy', 'Doctor', 'Allergy', 'Hurt', 'Hurt', 'Mom', 'Mom',\n",
       "       'Doctor', 'Allergy', 'Allergy', 'Mom', 'Allergy', 'Hurt', 'Mom',\n",
       "       'Mom', 'Hurt', 'Hurt', 'Mom', 'Ambulance', 'Hurt', 'Hurt', 'Mom',\n",
       "       'Allergy', 'Mom', 'Hurt', 'Mom', 'Hurt', 'Allergy', 'Hurt', 'Hurt',\n",
       "       'Allergy', 'Ambulance', 'Ambulance', 'Ambulance', 'Ambulance',\n",
       "       'Doctor', 'Hurt', 'Doctor', 'Hurt', 'Allergy', 'Doctor',\n",
       "       'Ambulance', 'Mom', 'Mom', 'Ambulance', 'Ambulance', 'Allergy',\n",
       "       'Doctor', 'Allergy', 'Ambulance', 'Doctor', 'Ambulance',\n",
       "       'Ambulance', 'Mom', 'Ambulance', 'Doctor', 'Allergy', 'Doctor',\n",
       "       'Doctor', 'Ambulance', 'Allergy', 'Ambulance', 'Doctor', 'Hurt',\n",
       "       'Doctor', 'Ambulance', 'Ambulance', 'Hurt', 'Ambulance',\n",
       "       'Ambulance', 'Allergy', 'Mom', 'Ambulance', 'Mom', 'Mom', 'Hurt',\n",
       "       'Allergy', 'Allergy', 'Allergy', 'Doctor', 'Doctor', 'Allergy',\n",
       "       'Mom', 'Mom', 'Allergy', 'Doctor', 'Mom', 'Hurt', 'Ambulance',\n",
       "       'Allergy', 'Mom', 'Mom', 'Hurt', 'Mom', 'Hurt', 'Allergy', 'Hurt',\n",
       "       'Mom', 'Mom', 'Allergy', 'Allergy', 'Doctor', 'Hurt', 'Ambulance',\n",
       "       'Allergy', 'Ambulance', 'Mom', 'Hurt', 'Ambulance', 'Mom', 'Hurt',\n",
       "       'Ambulance', 'Doctor', 'Mom', 'Doctor', 'Allergy', 'Doctor',\n",
       "       'Ambulance', 'Ambulance', 'Ambulance', 'Doctor', 'Doctor', 'Mom',\n",
       "       'Mom', 'Allergy', 'Doctor', 'Hurt', 'Allergy', 'Hurt', 'Doctor',\n",
       "       'Hurt'], dtype=object)"
      ]
     },
     "execution_count": 328,
     "metadata": {},
     "output_type": "execute_result"
    }
   ],
   "source": [
    "model.predict(X_test)"
   ]
  },
  {
   "cell_type": "code",
   "execution_count": 324,
   "id": "c4e7cf9f-20b5-4580-ac41-f404435197cd",
   "metadata": {},
   "outputs": [],
   "source": [
    "right_hand_test = list(np.zeros(84).flatten())\n",
    "left_hand_test = list(np.array([[res.x, res.y, res.z, res.visibility] for res in results.left_hand_landmarks.landmark]).flatten())"
   ]
  },
  {
   "cell_type": "code",
   "execution_count": 326,
   "id": "b14f819b-f1a7-40aa-bc60-af70af422696",
   "metadata": {},
   "outputs": [
    {
     "data": {
      "text/plain": [
       "84"
      ]
     },
     "execution_count": 326,
     "metadata": {},
     "output_type": "execute_result"
    }
   ],
   "source": [
    "len(right_hand_test)"
   ]
  },
  {
   "cell_type": "markdown",
   "id": "bb263817-fd84-4cb6-89f5-1dffa7387a2c",
   "metadata": {},
   "source": [
    "# Real Time Testing"
   ]
  },
  {
   "cell_type": "code",
   "execution_count": 305,
   "id": "cc2b6e20-c786-4b16-99de-097d9a8c929a",
   "metadata": {},
   "outputs": [
    {
     "name": "stderr",
     "output_type": "stream",
     "text": [
      "C:\\Users\\Karthik\\.conda\\envs\\condamp\\lib\\site-packages\\sklearn\\base.py:451: UserWarning: X does not have valid feature names, but StandardScaler was fitted with feature names\n",
      "  \"X does not have valid feature names, but\"\n",
      "C:\\Users\\Karthik\\.conda\\envs\\condamp\\lib\\site-packages\\sklearn\\base.py:451: UserWarning: X does not have valid feature names, but StandardScaler was fitted with feature names\n",
      "  \"X does not have valid feature names, but\"\n",
      "C:\\Users\\Karthik\\.conda\\envs\\condamp\\lib\\site-packages\\sklearn\\base.py:451: UserWarning: X does not have valid feature names, but StandardScaler was fitted with feature names\n",
      "  \"X does not have valid feature names, but\"\n",
      "C:\\Users\\Karthik\\.conda\\envs\\condamp\\lib\\site-packages\\sklearn\\base.py:451: UserWarning: X does not have valid feature names, but StandardScaler was fitted with feature names\n",
      "  \"X does not have valid feature names, but\"\n"
     ]
    },
    {
     "name": "stdout",
     "output_type": "stream",
     "text": [
      "Hurt [0.03282363 0.34080681 0.00197722 0.60336346 0.02102888]\n",
      "Hurt [0.01265514 0.32027456 0.00308235 0.62793721 0.03605075]\n"
     ]
    },
    {
     "name": "stderr",
     "output_type": "stream",
     "text": [
      "C:\\Users\\Karthik\\.conda\\envs\\condamp\\lib\\site-packages\\sklearn\\base.py:451: UserWarning: X does not have valid feature names, but StandardScaler was fitted with feature names\n",
      "  \"X does not have valid feature names, but\"\n",
      "C:\\Users\\Karthik\\.conda\\envs\\condamp\\lib\\site-packages\\sklearn\\base.py:451: UserWarning: X does not have valid feature names, but StandardScaler was fitted with feature names\n",
      "  \"X does not have valid feature names, but\"\n"
     ]
    },
    {
     "name": "stdout",
     "output_type": "stream",
     "text": [
      "Ambulance [0.07876586 0.47727551 0.00449156 0.41162951 0.02783757]\n"
     ]
    },
    {
     "name": "stderr",
     "output_type": "stream",
     "text": [
      "C:\\Users\\Karthik\\.conda\\envs\\condamp\\lib\\site-packages\\sklearn\\base.py:451: UserWarning: X does not have valid feature names, but StandardScaler was fitted with feature names\n",
      "  \"X does not have valid feature names, but\"\n",
      "C:\\Users\\Karthik\\.conda\\envs\\condamp\\lib\\site-packages\\sklearn\\base.py:451: UserWarning: X does not have valid feature names, but StandardScaler was fitted with feature names\n",
      "  \"X does not have valid feature names, but\"\n"
     ]
    },
    {
     "name": "stdout",
     "output_type": "stream",
     "text": [
      "Ambulance [0.07845073 0.4563123  0.01617105 0.38608085 0.06298508]\n"
     ]
    },
    {
     "name": "stderr",
     "output_type": "stream",
     "text": [
      "C:\\Users\\Karthik\\.conda\\envs\\condamp\\lib\\site-packages\\sklearn\\base.py:451: UserWarning: X does not have valid feature names, but StandardScaler was fitted with feature names\n",
      "  \"X does not have valid feature names, but\"\n",
      "C:\\Users\\Karthik\\.conda\\envs\\condamp\\lib\\site-packages\\sklearn\\base.py:451: UserWarning: X does not have valid feature names, but StandardScaler was fitted with feature names\n",
      "  \"X does not have valid feature names, but\"\n"
     ]
    },
    {
     "name": "stdout",
     "output_type": "stream",
     "text": [
      "Ambulance [2.91897676e-02 9.58334095e-01 2.30245097e-04 1.04218377e-02\n",
      " 1.82405424e-03]\n"
     ]
    },
    {
     "name": "stderr",
     "output_type": "stream",
     "text": [
      "C:\\Users\\Karthik\\.conda\\envs\\condamp\\lib\\site-packages\\sklearn\\base.py:451: UserWarning: X does not have valid feature names, but StandardScaler was fitted with feature names\n",
      "  \"X does not have valid feature names, but\"\n",
      "C:\\Users\\Karthik\\.conda\\envs\\condamp\\lib\\site-packages\\sklearn\\base.py:451: UserWarning: X does not have valid feature names, but StandardScaler was fitted with feature names\n",
      "  \"X does not have valid feature names, but\"\n",
      "C:\\Users\\Karthik\\.conda\\envs\\condamp\\lib\\site-packages\\sklearn\\base.py:451: UserWarning: X does not have valid feature names, but StandardScaler was fitted with feature names\n",
      "  \"X does not have valid feature names, but\"\n",
      "C:\\Users\\Karthik\\.conda\\envs\\condamp\\lib\\site-packages\\sklearn\\base.py:451: UserWarning: X does not have valid feature names, but StandardScaler was fitted with feature names\n",
      "  \"X does not have valid feature names, but\"\n"
     ]
    },
    {
     "name": "stdout",
     "output_type": "stream",
     "text": [
      "Allergy [0.86365296 0.0079559  0.0406539  0.08503961 0.00269763]\n",
      "Hurt [0.20331375 0.02472852 0.07748841 0.68747136 0.00699796]\n"
     ]
    },
    {
     "name": "stderr",
     "output_type": "stream",
     "text": [
      "C:\\Users\\Karthik\\.conda\\envs\\condamp\\lib\\site-packages\\sklearn\\base.py:451: UserWarning: X does not have valid feature names, but StandardScaler was fitted with feature names\n",
      "  \"X does not have valid feature names, but\"\n",
      "C:\\Users\\Karthik\\.conda\\envs\\condamp\\lib\\site-packages\\sklearn\\base.py:451: UserWarning: X does not have valid feature names, but StandardScaler was fitted with feature names\n",
      "  \"X does not have valid feature names, but\"\n",
      "C:\\Users\\Karthik\\.conda\\envs\\condamp\\lib\\site-packages\\sklearn\\base.py:451: UserWarning: X does not have valid feature names, but StandardScaler was fitted with feature names\n",
      "  \"X does not have valid feature names, but\"\n",
      "C:\\Users\\Karthik\\.conda\\envs\\condamp\\lib\\site-packages\\sklearn\\base.py:451: UserWarning: X does not have valid feature names, but StandardScaler was fitted with feature names\n",
      "  \"X does not have valid feature names, but\"\n"
     ]
    },
    {
     "name": "stdout",
     "output_type": "stream",
     "text": [
      "Hurt [0.23509513 0.02938481 0.04638574 0.67926843 0.00986589]\n",
      "Hurt [0.23868164 0.02442209 0.05295148 0.67519831 0.00874648]\n"
     ]
    },
    {
     "name": "stderr",
     "output_type": "stream",
     "text": [
      "C:\\Users\\Karthik\\.conda\\envs\\condamp\\lib\\site-packages\\sklearn\\base.py:451: UserWarning: X does not have valid feature names, but StandardScaler was fitted with feature names\n",
      "  \"X does not have valid feature names, but\"\n",
      "C:\\Users\\Karthik\\.conda\\envs\\condamp\\lib\\site-packages\\sklearn\\base.py:451: UserWarning: X does not have valid feature names, but StandardScaler was fitted with feature names\n",
      "  \"X does not have valid feature names, but\"\n"
     ]
    },
    {
     "name": "stdout",
     "output_type": "stream",
     "text": [
      "Ambulance [1.78217768e-02 9.32018611e-01 4.05644853e-04 4.40002109e-02\n",
      " 5.75375606e-03]\n"
     ]
    },
    {
     "name": "stderr",
     "output_type": "stream",
     "text": [
      "C:\\Users\\Karthik\\.conda\\envs\\condamp\\lib\\site-packages\\sklearn\\base.py:451: UserWarning: X does not have valid feature names, but StandardScaler was fitted with feature names\n",
      "  \"X does not have valid feature names, but\"\n",
      "C:\\Users\\Karthik\\.conda\\envs\\condamp\\lib\\site-packages\\sklearn\\base.py:451: UserWarning: X does not have valid feature names, but StandardScaler was fitted with feature names\n",
      "  \"X does not have valid feature names, but\"\n",
      "C:\\Users\\Karthik\\.conda\\envs\\condamp\\lib\\site-packages\\sklearn\\base.py:451: UserWarning: X does not have valid feature names, but StandardScaler was fitted with feature names\n",
      "  \"X does not have valid feature names, but\"\n",
      "C:\\Users\\Karthik\\.conda\\envs\\condamp\\lib\\site-packages\\sklearn\\base.py:451: UserWarning: X does not have valid feature names, but StandardScaler was fitted with feature names\n",
      "  \"X does not have valid feature names, but\"\n"
     ]
    },
    {
     "name": "stdout",
     "output_type": "stream",
     "text": [
      "Ambulance [0.21809419 0.43079764 0.01495282 0.31153243 0.02462292]\n",
      "Hurt [0.11174714 0.38224656 0.03812573 0.44122358 0.02665698]\n"
     ]
    },
    {
     "name": "stderr",
     "output_type": "stream",
     "text": [
      "C:\\Users\\Karthik\\.conda\\envs\\condamp\\lib\\site-packages\\sklearn\\base.py:451: UserWarning: X does not have valid feature names, but StandardScaler was fitted with feature names\n",
      "  \"X does not have valid feature names, but\"\n",
      "C:\\Users\\Karthik\\.conda\\envs\\condamp\\lib\\site-packages\\sklearn\\base.py:451: UserWarning: X does not have valid feature names, but StandardScaler was fitted with feature names\n",
      "  \"X does not have valid feature names, but\"\n",
      "C:\\Users\\Karthik\\.conda\\envs\\condamp\\lib\\site-packages\\sklearn\\base.py:451: UserWarning: X does not have valid feature names, but StandardScaler was fitted with feature names\n",
      "  \"X does not have valid feature names, but\"\n",
      "C:\\Users\\Karthik\\.conda\\envs\\condamp\\lib\\site-packages\\sklearn\\base.py:451: UserWarning: X does not have valid feature names, but StandardScaler was fitted with feature names\n",
      "  \"X does not have valid feature names, but\"\n"
     ]
    },
    {
     "name": "stdout",
     "output_type": "stream",
     "text": [
      "Hurt [0.06216614 0.43016923 0.02957456 0.4550626  0.02302747]\n",
      "Hurt [0.05717591 0.3631103  0.09521416 0.45993614 0.02456349]\n"
     ]
    },
    {
     "name": "stderr",
     "output_type": "stream",
     "text": [
      "C:\\Users\\Karthik\\.conda\\envs\\condamp\\lib\\site-packages\\sklearn\\base.py:451: UserWarning: X does not have valid feature names, but StandardScaler was fitted with feature names\n",
      "  \"X does not have valid feature names, but\"\n",
      "C:\\Users\\Karthik\\.conda\\envs\\condamp\\lib\\site-packages\\sklearn\\base.py:451: UserWarning: X does not have valid feature names, but StandardScaler was fitted with feature names\n",
      "  \"X does not have valid feature names, but\"\n",
      "C:\\Users\\Karthik\\.conda\\envs\\condamp\\lib\\site-packages\\sklearn\\base.py:451: UserWarning: X does not have valid feature names, but StandardScaler was fitted with feature names\n",
      "  \"X does not have valid feature names, but\"\n",
      "C:\\Users\\Karthik\\.conda\\envs\\condamp\\lib\\site-packages\\sklearn\\base.py:451: UserWarning: X does not have valid feature names, but StandardScaler was fitted with feature names\n",
      "  \"X does not have valid feature names, but\"\n"
     ]
    },
    {
     "name": "stdout",
     "output_type": "stream",
     "text": [
      "Hurt [0.07876864 0.33607395 0.05444654 0.50635902 0.02435184]\n",
      "Hurt [0.27428476 0.31385752 0.01539112 0.39044883 0.00601777]\n"
     ]
    },
    {
     "name": "stderr",
     "output_type": "stream",
     "text": [
      "C:\\Users\\Karthik\\.conda\\envs\\condamp\\lib\\site-packages\\sklearn\\base.py:451: UserWarning: X does not have valid feature names, but StandardScaler was fitted with feature names\n",
      "  \"X does not have valid feature names, but\"\n",
      "C:\\Users\\Karthik\\.conda\\envs\\condamp\\lib\\site-packages\\sklearn\\base.py:451: UserWarning: X does not have valid feature names, but StandardScaler was fitted with feature names\n",
      "  \"X does not have valid feature names, but\"\n"
     ]
    },
    {
     "name": "stdout",
     "output_type": "stream",
     "text": [
      "Hurt [0.10133446 0.15528382 0.08031422 0.64740745 0.01566005]\n"
     ]
    },
    {
     "name": "stderr",
     "output_type": "stream",
     "text": [
      "C:\\Users\\Karthik\\.conda\\envs\\condamp\\lib\\site-packages\\sklearn\\base.py:451: UserWarning: X does not have valid feature names, but StandardScaler was fitted with feature names\n",
      "  \"X does not have valid feature names, but\"\n",
      "C:\\Users\\Karthik\\.conda\\envs\\condamp\\lib\\site-packages\\sklearn\\base.py:451: UserWarning: X does not have valid feature names, but StandardScaler was fitted with feature names\n",
      "  \"X does not have valid feature names, but\"\n",
      "C:\\Users\\Karthik\\.conda\\envs\\condamp\\lib\\site-packages\\sklearn\\base.py:451: UserWarning: X does not have valid feature names, but StandardScaler was fitted with feature names\n",
      "  \"X does not have valid feature names, but\"\n",
      "C:\\Users\\Karthik\\.conda\\envs\\condamp\\lib\\site-packages\\sklearn\\base.py:451: UserWarning: X does not have valid feature names, but StandardScaler was fitted with feature names\n",
      "  \"X does not have valid feature names, but\"\n"
     ]
    },
    {
     "name": "stdout",
     "output_type": "stream",
     "text": [
      "Allergy [0.67654397 0.26013417 0.01035183 0.04809618 0.00487385]\n",
      "Ambulance [0.28183068 0.63864287 0.00485671 0.06922461 0.00544513]\n"
     ]
    },
    {
     "name": "stderr",
     "output_type": "stream",
     "text": [
      "C:\\Users\\Karthik\\.conda\\envs\\condamp\\lib\\site-packages\\sklearn\\base.py:451: UserWarning: X does not have valid feature names, but StandardScaler was fitted with feature names\n",
      "  \"X does not have valid feature names, but\"\n",
      "C:\\Users\\Karthik\\.conda\\envs\\condamp\\lib\\site-packages\\sklearn\\base.py:451: UserWarning: X does not have valid feature names, but StandardScaler was fitted with feature names\n",
      "  \"X does not have valid feature names, but\"\n"
     ]
    },
    {
     "name": "stdout",
     "output_type": "stream",
     "text": [
      "Allergy [5.95479661e-01 3.87783418e-01 1.75144100e-04 1.59524927e-02\n",
      " 6.09284756e-04]\n"
     ]
    },
    {
     "name": "stderr",
     "output_type": "stream",
     "text": [
      "C:\\Users\\Karthik\\.conda\\envs\\condamp\\lib\\site-packages\\sklearn\\base.py:451: UserWarning: X does not have valid feature names, but StandardScaler was fitted with feature names\n",
      "  \"X does not have valid feature names, but\"\n",
      "C:\\Users\\Karthik\\.conda\\envs\\condamp\\lib\\site-packages\\sklearn\\base.py:451: UserWarning: X does not have valid feature names, but StandardScaler was fitted with feature names\n",
      "  \"X does not have valid feature names, but\"\n",
      "C:\\Users\\Karthik\\.conda\\envs\\condamp\\lib\\site-packages\\sklearn\\base.py:451: UserWarning: X does not have valid feature names, but StandardScaler was fitted with feature names\n",
      "  \"X does not have valid feature names, but\"\n",
      "C:\\Users\\Karthik\\.conda\\envs\\condamp\\lib\\site-packages\\sklearn\\base.py:451: UserWarning: X does not have valid feature names, but StandardScaler was fitted with feature names\n",
      "  \"X does not have valid feature names, but\"\n"
     ]
    },
    {
     "name": "stdout",
     "output_type": "stream",
     "text": [
      "Ambulance [0.15354782 0.70349558 0.00560968 0.1221944  0.01515252]\n",
      "Ambulance [0.31204979 0.511014   0.00666777 0.16320853 0.00705991]\n"
     ]
    },
    {
     "name": "stderr",
     "output_type": "stream",
     "text": [
      "C:\\Users\\Karthik\\.conda\\envs\\condamp\\lib\\site-packages\\sklearn\\base.py:451: UserWarning: X does not have valid feature names, but StandardScaler was fitted with feature names\n",
      "  \"X does not have valid feature names, but\"\n",
      "C:\\Users\\Karthik\\.conda\\envs\\condamp\\lib\\site-packages\\sklearn\\base.py:451: UserWarning: X does not have valid feature names, but StandardScaler was fitted with feature names\n",
      "  \"X does not have valid feature names, but\"\n"
     ]
    },
    {
     "name": "stdout",
     "output_type": "stream",
     "text": [
      "Ambulance [0.01824685 0.53994275 0.0196998  0.40794502 0.01416558]\n"
     ]
    },
    {
     "name": "stderr",
     "output_type": "stream",
     "text": [
      "C:\\Users\\Karthik\\.conda\\envs\\condamp\\lib\\site-packages\\sklearn\\base.py:451: UserWarning: X does not have valid feature names, but StandardScaler was fitted with feature names\n",
      "  \"X does not have valid feature names, but\"\n",
      "C:\\Users\\Karthik\\.conda\\envs\\condamp\\lib\\site-packages\\sklearn\\base.py:451: UserWarning: X does not have valid feature names, but StandardScaler was fitted with feature names\n",
      "  \"X does not have valid feature names, but\"\n"
     ]
    },
    {
     "name": "stdout",
     "output_type": "stream",
     "text": [
      "Allergy [8.73936719e-01 7.26092465e-05 1.25953574e-01 4.03710459e-07\n",
      " 3.66935143e-05]\n"
     ]
    },
    {
     "name": "stderr",
     "output_type": "stream",
     "text": [
      "C:\\Users\\Karthik\\.conda\\envs\\condamp\\lib\\site-packages\\sklearn\\base.py:451: UserWarning: X does not have valid feature names, but StandardScaler was fitted with feature names\n",
      "  \"X does not have valid feature names, but\"\n",
      "C:\\Users\\Karthik\\.conda\\envs\\condamp\\lib\\site-packages\\sklearn\\base.py:451: UserWarning: X does not have valid feature names, but StandardScaler was fitted with feature names\n",
      "  \"X does not have valid feature names, but\"\n",
      "C:\\Users\\Karthik\\.conda\\envs\\condamp\\lib\\site-packages\\sklearn\\base.py:451: UserWarning: X does not have valid feature names, but StandardScaler was fitted with feature names\n",
      "  \"X does not have valid feature names, but\"\n",
      "C:\\Users\\Karthik\\.conda\\envs\\condamp\\lib\\site-packages\\sklearn\\base.py:451: UserWarning: X does not have valid feature names, but StandardScaler was fitted with feature names\n",
      "  \"X does not have valid feature names, but\"\n"
     ]
    },
    {
     "name": "stdout",
     "output_type": "stream",
     "text": [
      "Allergy [5.27416778e-01 3.64013992e-04 4.72110140e-01 6.01157888e-05\n",
      " 4.89519674e-05]\n",
      "Allergy [7.24600913e-01 5.00461690e-06 2.75393478e-01 2.26481643e-07\n",
      " 3.77846675e-07]\n"
     ]
    },
    {
     "name": "stderr",
     "output_type": "stream",
     "text": [
      "C:\\Users\\Karthik\\.conda\\envs\\condamp\\lib\\site-packages\\sklearn\\base.py:451: UserWarning: X does not have valid feature names, but StandardScaler was fitted with feature names\n",
      "  \"X does not have valid feature names, but\"\n",
      "C:\\Users\\Karthik\\.conda\\envs\\condamp\\lib\\site-packages\\sklearn\\base.py:451: UserWarning: X does not have valid feature names, but StandardScaler was fitted with feature names\n",
      "  \"X does not have valid feature names, but\"\n",
      "C:\\Users\\Karthik\\.conda\\envs\\condamp\\lib\\site-packages\\sklearn\\base.py:451: UserWarning: X does not have valid feature names, but StandardScaler was fitted with feature names\n",
      "  \"X does not have valid feature names, but\"\n",
      "C:\\Users\\Karthik\\.conda\\envs\\condamp\\lib\\site-packages\\sklearn\\base.py:451: UserWarning: X does not have valid feature names, but StandardScaler was fitted with feature names\n",
      "  \"X does not have valid feature names, but\"\n"
     ]
    },
    {
     "name": "stdout",
     "output_type": "stream",
     "text": [
      "Allergy [9.99929118e-01 3.05856822e-05 4.01369407e-05 1.22850449e-07\n",
      " 3.66675155e-08]\n",
      "Allergy [9.98174246e-01 1.54150021e-03 2.50554562e-04 3.07483468e-05\n",
      " 2.95134079e-06]\n"
     ]
    },
    {
     "name": "stderr",
     "output_type": "stream",
     "text": [
      "C:\\Users\\Karthik\\.conda\\envs\\condamp\\lib\\site-packages\\sklearn\\base.py:451: UserWarning: X does not have valid feature names, but StandardScaler was fitted with feature names\n",
      "  \"X does not have valid feature names, but\"\n",
      "C:\\Users\\Karthik\\.conda\\envs\\condamp\\lib\\site-packages\\sklearn\\base.py:451: UserWarning: X does not have valid feature names, but StandardScaler was fitted with feature names\n",
      "  \"X does not have valid feature names, but\"\n",
      "C:\\Users\\Karthik\\.conda\\envs\\condamp\\lib\\site-packages\\sklearn\\base.py:451: UserWarning: X does not have valid feature names, but StandardScaler was fitted with feature names\n",
      "  \"X does not have valid feature names, but\"\n",
      "C:\\Users\\Karthik\\.conda\\envs\\condamp\\lib\\site-packages\\sklearn\\base.py:451: UserWarning: X does not have valid feature names, but StandardScaler was fitted with feature names\n",
      "  \"X does not have valid feature names, but\"\n"
     ]
    },
    {
     "name": "stdout",
     "output_type": "stream",
     "text": [
      "Allergy [9.91322159e-01 7.60258650e-03 8.59594668e-04 2.04454362e-04\n",
      " 1.12054175e-05]\n",
      "Allergy [9.99937642e-01 3.71181631e-05 2.51206231e-05 9.55773157e-08\n",
      " 2.35374138e-08]\n"
     ]
    },
    {
     "name": "stderr",
     "output_type": "stream",
     "text": [
      "C:\\Users\\Karthik\\.conda\\envs\\condamp\\lib\\site-packages\\sklearn\\base.py:451: UserWarning: X does not have valid feature names, but StandardScaler was fitted with feature names\n",
      "  \"X does not have valid feature names, but\"\n",
      "C:\\Users\\Karthik\\.conda\\envs\\condamp\\lib\\site-packages\\sklearn\\base.py:451: UserWarning: X does not have valid feature names, but StandardScaler was fitted with feature names\n",
      "  \"X does not have valid feature names, but\"\n",
      "C:\\Users\\Karthik\\.conda\\envs\\condamp\\lib\\site-packages\\sklearn\\base.py:451: UserWarning: X does not have valid feature names, but StandardScaler was fitted with feature names\n",
      "  \"X does not have valid feature names, but\"\n",
      "C:\\Users\\Karthik\\.conda\\envs\\condamp\\lib\\site-packages\\sklearn\\base.py:451: UserWarning: X does not have valid feature names, but StandardScaler was fitted with feature names\n",
      "  \"X does not have valid feature names, but\"\n"
     ]
    },
    {
     "name": "stdout",
     "output_type": "stream",
     "text": [
      "Allergy [0.91310366 0.03343816 0.00204576 0.04749604 0.00391638]\n",
      "Allergy [0.95356023 0.01361027 0.00119313 0.0291169  0.00251948]\n"
     ]
    },
    {
     "name": "stderr",
     "output_type": "stream",
     "text": [
      "C:\\Users\\Karthik\\.conda\\envs\\condamp\\lib\\site-packages\\sklearn\\base.py:451: UserWarning: X does not have valid feature names, but StandardScaler was fitted with feature names\n",
      "  \"X does not have valid feature names, but\"\n",
      "C:\\Users\\Karthik\\.conda\\envs\\condamp\\lib\\site-packages\\sklearn\\base.py:451: UserWarning: X does not have valid feature names, but StandardScaler was fitted with feature names\n",
      "  \"X does not have valid feature names, but\"\n",
      "C:\\Users\\Karthik\\.conda\\envs\\condamp\\lib\\site-packages\\sklearn\\base.py:451: UserWarning: X does not have valid feature names, but StandardScaler was fitted with feature names\n",
      "  \"X does not have valid feature names, but\"\n",
      "C:\\Users\\Karthik\\.conda\\envs\\condamp\\lib\\site-packages\\sklearn\\base.py:451: UserWarning: X does not have valid feature names, but StandardScaler was fitted with feature names\n",
      "  \"X does not have valid feature names, but\"\n"
     ]
    },
    {
     "name": "stdout",
     "output_type": "stream",
     "text": [
      "Allergy [0.85230821 0.04446212 0.03358089 0.05753602 0.01211276]\n",
      "Allergy [0.752728   0.05834501 0.06496936 0.09390824 0.03004939]\n"
     ]
    },
    {
     "name": "stderr",
     "output_type": "stream",
     "text": [
      "C:\\Users\\Karthik\\.conda\\envs\\condamp\\lib\\site-packages\\sklearn\\base.py:451: UserWarning: X does not have valid feature names, but StandardScaler was fitted with feature names\n",
      "  \"X does not have valid feature names, but\"\n",
      "C:\\Users\\Karthik\\.conda\\envs\\condamp\\lib\\site-packages\\sklearn\\base.py:451: UserWarning: X does not have valid feature names, but StandardScaler was fitted with feature names\n",
      "  \"X does not have valid feature names, but\"\n",
      "C:\\Users\\Karthik\\.conda\\envs\\condamp\\lib\\site-packages\\sklearn\\base.py:451: UserWarning: X does not have valid feature names, but StandardScaler was fitted with feature names\n",
      "  \"X does not have valid feature names, but\"\n",
      "C:\\Users\\Karthik\\.conda\\envs\\condamp\\lib\\site-packages\\sklearn\\base.py:451: UserWarning: X does not have valid feature names, but StandardScaler was fitted with feature names\n",
      "  \"X does not have valid feature names, but\"\n"
     ]
    },
    {
     "name": "stdout",
     "output_type": "stream",
     "text": [
      "Allergy [0.78129308 0.05952701 0.04305415 0.09662952 0.01949624]\n",
      "Allergy [0.74951829 0.07400246 0.03659451 0.12003261 0.01985213]\n"
     ]
    },
    {
     "name": "stderr",
     "output_type": "stream",
     "text": [
      "C:\\Users\\Karthik\\.conda\\envs\\condamp\\lib\\site-packages\\sklearn\\base.py:451: UserWarning: X does not have valid feature names, but StandardScaler was fitted with feature names\n",
      "  \"X does not have valid feature names, but\"\n",
      "C:\\Users\\Karthik\\.conda\\envs\\condamp\\lib\\site-packages\\sklearn\\base.py:451: UserWarning: X does not have valid feature names, but StandardScaler was fitted with feature names\n",
      "  \"X does not have valid feature names, but\"\n",
      "C:\\Users\\Karthik\\.conda\\envs\\condamp\\lib\\site-packages\\sklearn\\base.py:451: UserWarning: X does not have valid feature names, but StandardScaler was fitted with feature names\n",
      "  \"X does not have valid feature names, but\"\n",
      "C:\\Users\\Karthik\\.conda\\envs\\condamp\\lib\\site-packages\\sklearn\\base.py:451: UserWarning: X does not have valid feature names, but StandardScaler was fitted with feature names\n",
      "  \"X does not have valid feature names, but\"\n"
     ]
    },
    {
     "name": "stdout",
     "output_type": "stream",
     "text": [
      "Allergy [0.71095054 0.08888657 0.0292361  0.15424479 0.016682  ]\n",
      "Allergy [0.59009011 0.10377635 0.04877825 0.24976333 0.00759196]\n"
     ]
    },
    {
     "name": "stderr",
     "output_type": "stream",
     "text": [
      "C:\\Users\\Karthik\\.conda\\envs\\condamp\\lib\\site-packages\\sklearn\\base.py:451: UserWarning: X does not have valid feature names, but StandardScaler was fitted with feature names\n",
      "  \"X does not have valid feature names, but\"\n",
      "C:\\Users\\Karthik\\.conda\\envs\\condamp\\lib\\site-packages\\sklearn\\base.py:451: UserWarning: X does not have valid feature names, but StandardScaler was fitted with feature names\n",
      "  \"X does not have valid feature names, but\"\n",
      "C:\\Users\\Karthik\\.conda\\envs\\condamp\\lib\\site-packages\\sklearn\\base.py:451: UserWarning: X does not have valid feature names, but StandardScaler was fitted with feature names\n",
      "  \"X does not have valid feature names, but\"\n",
      "C:\\Users\\Karthik\\.conda\\envs\\condamp\\lib\\site-packages\\sklearn\\base.py:451: UserWarning: X does not have valid feature names, but StandardScaler was fitted with feature names\n",
      "  \"X does not have valid feature names, but\"\n"
     ]
    },
    {
     "name": "stdout",
     "output_type": "stream",
     "text": [
      "Allergy [0.5539096  0.11775115 0.03872546 0.28251642 0.00709738]\n",
      "Allergy [0.83644206 0.06058932 0.00548978 0.09444491 0.00303394]\n"
     ]
    },
    {
     "name": "stderr",
     "output_type": "stream",
     "text": [
      "C:\\Users\\Karthik\\.conda\\envs\\condamp\\lib\\site-packages\\sklearn\\base.py:451: UserWarning: X does not have valid feature names, but StandardScaler was fitted with feature names\n",
      "  \"X does not have valid feature names, but\"\n",
      "C:\\Users\\Karthik\\.conda\\envs\\condamp\\lib\\site-packages\\sklearn\\base.py:451: UserWarning: X does not have valid feature names, but StandardScaler was fitted with feature names\n",
      "  \"X does not have valid feature names, but\"\n",
      "C:\\Users\\Karthik\\.conda\\envs\\condamp\\lib\\site-packages\\sklearn\\base.py:451: UserWarning: X does not have valid feature names, but StandardScaler was fitted with feature names\n",
      "  \"X does not have valid feature names, but\"\n",
      "C:\\Users\\Karthik\\.conda\\envs\\condamp\\lib\\site-packages\\sklearn\\base.py:451: UserWarning: X does not have valid feature names, but StandardScaler was fitted with feature names\n",
      "  \"X does not have valid feature names, but\"\n"
     ]
    },
    {
     "name": "stdout",
     "output_type": "stream",
     "text": [
      "Allergy [0.66562598 0.09799227 0.01738226 0.21476141 0.00423808]\n",
      "Allergy [0.70440807 0.09369178 0.00978696 0.18575799 0.00635519]\n"
     ]
    },
    {
     "name": "stderr",
     "output_type": "stream",
     "text": [
      "C:\\Users\\Karthik\\.conda\\envs\\condamp\\lib\\site-packages\\sklearn\\base.py:451: UserWarning: X does not have valid feature names, but StandardScaler was fitted with feature names\n",
      "  \"X does not have valid feature names, but\"\n",
      "C:\\Users\\Karthik\\.conda\\envs\\condamp\\lib\\site-packages\\sklearn\\base.py:451: UserWarning: X does not have valid feature names, but StandardScaler was fitted with feature names\n",
      "  \"X does not have valid feature names, but\"\n",
      "C:\\Users\\Karthik\\.conda\\envs\\condamp\\lib\\site-packages\\sklearn\\base.py:451: UserWarning: X does not have valid feature names, but StandardScaler was fitted with feature names\n",
      "  \"X does not have valid feature names, but\"\n",
      "C:\\Users\\Karthik\\.conda\\envs\\condamp\\lib\\site-packages\\sklearn\\base.py:451: UserWarning: X does not have valid feature names, but StandardScaler was fitted with feature names\n",
      "  \"X does not have valid feature names, but\"\n"
     ]
    },
    {
     "name": "stdout",
     "output_type": "stream",
     "text": [
      "Allergy [0.58653427 0.12337952 0.01502305 0.26733293 0.00773022]\n",
      "Allergy [0.62824737 0.12151816 0.00830666 0.23050718 0.01142062]\n"
     ]
    },
    {
     "name": "stderr",
     "output_type": "stream",
     "text": [
      "C:\\Users\\Karthik\\.conda\\envs\\condamp\\lib\\site-packages\\sklearn\\base.py:451: UserWarning: X does not have valid feature names, but StandardScaler was fitted with feature names\n",
      "  \"X does not have valid feature names, but\"\n",
      "C:\\Users\\Karthik\\.conda\\envs\\condamp\\lib\\site-packages\\sklearn\\base.py:451: UserWarning: X does not have valid feature names, but StandardScaler was fitted with feature names\n",
      "  \"X does not have valid feature names, but\"\n",
      "C:\\Users\\Karthik\\.conda\\envs\\condamp\\lib\\site-packages\\sklearn\\base.py:451: UserWarning: X does not have valid feature names, but StandardScaler was fitted with feature names\n",
      "  \"X does not have valid feature names, but\"\n",
      "C:\\Users\\Karthik\\.conda\\envs\\condamp\\lib\\site-packages\\sklearn\\base.py:451: UserWarning: X does not have valid feature names, but StandardScaler was fitted with feature names\n",
      "  \"X does not have valid feature names, but\"\n"
     ]
    },
    {
     "name": "stdout",
     "output_type": "stream",
     "text": [
      "Allergy [0.55838894 0.10355476 0.00641778 0.32762483 0.00401369]\n",
      "Allergy [0.63631013 0.08601342 0.00608481 0.2669288  0.00466285]\n"
     ]
    },
    {
     "name": "stderr",
     "output_type": "stream",
     "text": [
      "C:\\Users\\Karthik\\.conda\\envs\\condamp\\lib\\site-packages\\sklearn\\base.py:451: UserWarning: X does not have valid feature names, but StandardScaler was fitted with feature names\n",
      "  \"X does not have valid feature names, but\"\n",
      "C:\\Users\\Karthik\\.conda\\envs\\condamp\\lib\\site-packages\\sklearn\\base.py:451: UserWarning: X does not have valid feature names, but StandardScaler was fitted with feature names\n",
      "  \"X does not have valid feature names, but\"\n",
      "C:\\Users\\Karthik\\.conda\\envs\\condamp\\lib\\site-packages\\sklearn\\base.py:451: UserWarning: X does not have valid feature names, but StandardScaler was fitted with feature names\n",
      "  \"X does not have valid feature names, but\"\n",
      "C:\\Users\\Karthik\\.conda\\envs\\condamp\\lib\\site-packages\\sklearn\\base.py:451: UserWarning: X does not have valid feature names, but StandardScaler was fitted with feature names\n",
      "  \"X does not have valid feature names, but\"\n"
     ]
    },
    {
     "name": "stdout",
     "output_type": "stream",
     "text": [
      "Hurt [0.4312519  0.0866746  0.00625649 0.47316327 0.00265374]\n",
      "Allergy [0.58250789 0.12086072 0.00343897 0.28731869 0.00587373]\n"
     ]
    },
    {
     "name": "stderr",
     "output_type": "stream",
     "text": [
      "C:\\Users\\Karthik\\.conda\\envs\\condamp\\lib\\site-packages\\sklearn\\base.py:451: UserWarning: X does not have valid feature names, but StandardScaler was fitted with feature names\n",
      "  \"X does not have valid feature names, but\"\n",
      "C:\\Users\\Karthik\\.conda\\envs\\condamp\\lib\\site-packages\\sklearn\\base.py:451: UserWarning: X does not have valid feature names, but StandardScaler was fitted with feature names\n",
      "  \"X does not have valid feature names, but\"\n",
      "C:\\Users\\Karthik\\.conda\\envs\\condamp\\lib\\site-packages\\sklearn\\base.py:451: UserWarning: X does not have valid feature names, but StandardScaler was fitted with feature names\n",
      "  \"X does not have valid feature names, but\"\n",
      "C:\\Users\\Karthik\\.conda\\envs\\condamp\\lib\\site-packages\\sklearn\\base.py:451: UserWarning: X does not have valid feature names, but StandardScaler was fitted with feature names\n",
      "  \"X does not have valid feature names, but\"\n"
     ]
    },
    {
     "name": "stdout",
     "output_type": "stream",
     "text": [
      "Hurt [0.18782667 0.15090014 0.01361954 0.63720195 0.0104517 ]\n",
      "Hurt [0.16528708 0.14183368 0.01585895 0.66465255 0.01236774]\n"
     ]
    },
    {
     "name": "stderr",
     "output_type": "stream",
     "text": [
      "C:\\Users\\Karthik\\.conda\\envs\\condamp\\lib\\site-packages\\sklearn\\base.py:451: UserWarning: X does not have valid feature names, but StandardScaler was fitted with feature names\n",
      "  \"X does not have valid feature names, but\"\n",
      "C:\\Users\\Karthik\\.conda\\envs\\condamp\\lib\\site-packages\\sklearn\\base.py:451: UserWarning: X does not have valid feature names, but StandardScaler was fitted with feature names\n",
      "  \"X does not have valid feature names, but\"\n",
      "C:\\Users\\Karthik\\.conda\\envs\\condamp\\lib\\site-packages\\sklearn\\base.py:451: UserWarning: X does not have valid feature names, but StandardScaler was fitted with feature names\n",
      "  \"X does not have valid feature names, but\"\n",
      "C:\\Users\\Karthik\\.conda\\envs\\condamp\\lib\\site-packages\\sklearn\\base.py:451: UserWarning: X does not have valid feature names, but StandardScaler was fitted with feature names\n",
      "  \"X does not have valid feature names, but\"\n"
     ]
    },
    {
     "name": "stdout",
     "output_type": "stream",
     "text": [
      "Hurt [0.07217578 0.11149174 0.02755614 0.77739609 0.01138025]\n",
      "Hurt [0.2007544  0.13210411 0.01481283 0.64152212 0.01080655]\n"
     ]
    },
    {
     "name": "stderr",
     "output_type": "stream",
     "text": [
      "C:\\Users\\Karthik\\.conda\\envs\\condamp\\lib\\site-packages\\sklearn\\base.py:451: UserWarning: X does not have valid feature names, but StandardScaler was fitted with feature names\n",
      "  \"X does not have valid feature names, but\"\n",
      "C:\\Users\\Karthik\\.conda\\envs\\condamp\\lib\\site-packages\\sklearn\\base.py:451: UserWarning: X does not have valid feature names, but StandardScaler was fitted with feature names\n",
      "  \"X does not have valid feature names, but\"\n",
      "C:\\Users\\Karthik\\.conda\\envs\\condamp\\lib\\site-packages\\sklearn\\base.py:451: UserWarning: X does not have valid feature names, but StandardScaler was fitted with feature names\n",
      "  \"X does not have valid feature names, but\"\n",
      "C:\\Users\\Karthik\\.conda\\envs\\condamp\\lib\\site-packages\\sklearn\\base.py:451: UserWarning: X does not have valid feature names, but StandardScaler was fitted with feature names\n",
      "  \"X does not have valid feature names, but\"\n"
     ]
    },
    {
     "name": "stdout",
     "output_type": "stream",
     "text": [
      "Hurt [0.09207124 0.10403984 0.01752358 0.77804511 0.00832024]\n",
      "Hurt [0.096937   0.08928658 0.00805055 0.79951937 0.0062065 ]\n"
     ]
    },
    {
     "name": "stderr",
     "output_type": "stream",
     "text": [
      "C:\\Users\\Karthik\\.conda\\envs\\condamp\\lib\\site-packages\\sklearn\\base.py:451: UserWarning: X does not have valid feature names, but StandardScaler was fitted with feature names\n",
      "  \"X does not have valid feature names, but\"\n",
      "C:\\Users\\Karthik\\.conda\\envs\\condamp\\lib\\site-packages\\sklearn\\base.py:451: UserWarning: X does not have valid feature names, but StandardScaler was fitted with feature names\n",
      "  \"X does not have valid feature names, but\"\n",
      "C:\\Users\\Karthik\\.conda\\envs\\condamp\\lib\\site-packages\\sklearn\\base.py:451: UserWarning: X does not have valid feature names, but StandardScaler was fitted with feature names\n",
      "  \"X does not have valid feature names, but\"\n",
      "C:\\Users\\Karthik\\.conda\\envs\\condamp\\lib\\site-packages\\sklearn\\base.py:451: UserWarning: X does not have valid feature names, but StandardScaler was fitted with feature names\n",
      "  \"X does not have valid feature names, but\"\n"
     ]
    },
    {
     "name": "stdout",
     "output_type": "stream",
     "text": [
      "Hurt [0.04842352 0.08721293 0.00832186 0.84823907 0.00780263]\n",
      "Hurt [0.04434768 0.1072753  0.0135829  0.82451845 0.01027567]\n"
     ]
    },
    {
     "name": "stderr",
     "output_type": "stream",
     "text": [
      "C:\\Users\\Karthik\\.conda\\envs\\condamp\\lib\\site-packages\\sklearn\\base.py:451: UserWarning: X does not have valid feature names, but StandardScaler was fitted with feature names\n",
      "  \"X does not have valid feature names, but\"\n",
      "C:\\Users\\Karthik\\.conda\\envs\\condamp\\lib\\site-packages\\sklearn\\base.py:451: UserWarning: X does not have valid feature names, but StandardScaler was fitted with feature names\n",
      "  \"X does not have valid feature names, but\"\n",
      "C:\\Users\\Karthik\\.conda\\envs\\condamp\\lib\\site-packages\\sklearn\\base.py:451: UserWarning: X does not have valid feature names, but StandardScaler was fitted with feature names\n",
      "  \"X does not have valid feature names, but\"\n",
      "C:\\Users\\Karthik\\.conda\\envs\\condamp\\lib\\site-packages\\sklearn\\base.py:451: UserWarning: X does not have valid feature names, but StandardScaler was fitted with feature names\n",
      "  \"X does not have valid feature names, but\"\n"
     ]
    },
    {
     "name": "stdout",
     "output_type": "stream",
     "text": [
      "Hurt [0.30488875 0.10955859 0.02422027 0.54844913 0.01288326]\n",
      "Hurt [0.15925931 0.13312497 0.01278773 0.68180274 0.01302525]\n"
     ]
    },
    {
     "name": "stderr",
     "output_type": "stream",
     "text": [
      "C:\\Users\\Karthik\\.conda\\envs\\condamp\\lib\\site-packages\\sklearn\\base.py:451: UserWarning: X does not have valid feature names, but StandardScaler was fitted with feature names\n",
      "  \"X does not have valid feature names, but\"\n",
      "C:\\Users\\Karthik\\.conda\\envs\\condamp\\lib\\site-packages\\sklearn\\base.py:451: UserWarning: X does not have valid feature names, but StandardScaler was fitted with feature names\n",
      "  \"X does not have valid feature names, but\"\n",
      "C:\\Users\\Karthik\\.conda\\envs\\condamp\\lib\\site-packages\\sklearn\\base.py:451: UserWarning: X does not have valid feature names, but StandardScaler was fitted with feature names\n",
      "  \"X does not have valid feature names, but\"\n",
      "C:\\Users\\Karthik\\.conda\\envs\\condamp\\lib\\site-packages\\sklearn\\base.py:451: UserWarning: X does not have valid feature names, but StandardScaler was fitted with feature names\n",
      "  \"X does not have valid feature names, but\"\n"
     ]
    },
    {
     "name": "stdout",
     "output_type": "stream",
     "text": [
      "Hurt [0.09409252 0.10776079 0.00561293 0.78677546 0.0057583 ]\n",
      "Hurt [0.12934359 0.09978218 0.00389193 0.76161626 0.00536604]\n"
     ]
    },
    {
     "name": "stderr",
     "output_type": "stream",
     "text": [
      "C:\\Users\\Karthik\\.conda\\envs\\condamp\\lib\\site-packages\\sklearn\\base.py:451: UserWarning: X does not have valid feature names, but StandardScaler was fitted with feature names\n",
      "  \"X does not have valid feature names, but\"\n",
      "C:\\Users\\Karthik\\.conda\\envs\\condamp\\lib\\site-packages\\sklearn\\base.py:451: UserWarning: X does not have valid feature names, but StandardScaler was fitted with feature names\n",
      "  \"X does not have valid feature names, but\"\n",
      "C:\\Users\\Karthik\\.conda\\envs\\condamp\\lib\\site-packages\\sklearn\\base.py:451: UserWarning: X does not have valid feature names, but StandardScaler was fitted with feature names\n",
      "  \"X does not have valid feature names, but\"\n",
      "C:\\Users\\Karthik\\.conda\\envs\\condamp\\lib\\site-packages\\sklearn\\base.py:451: UserWarning: X does not have valid feature names, but StandardScaler was fitted with feature names\n",
      "  \"X does not have valid feature names, but\"\n"
     ]
    },
    {
     "name": "stdout",
     "output_type": "stream",
     "text": [
      "Hurt [0.30542618 0.06673036 0.00271505 0.62261583 0.00251259]\n",
      "Hurt [0.26424837 0.0893121  0.00205126 0.63938516 0.00500311]\n"
     ]
    },
    {
     "name": "stderr",
     "output_type": "stream",
     "text": [
      "C:\\Users\\Karthik\\.conda\\envs\\condamp\\lib\\site-packages\\sklearn\\base.py:451: UserWarning: X does not have valid feature names, but StandardScaler was fitted with feature names\n",
      "  \"X does not have valid feature names, but\"\n",
      "C:\\Users\\Karthik\\.conda\\envs\\condamp\\lib\\site-packages\\sklearn\\base.py:451: UserWarning: X does not have valid feature names, but StandardScaler was fitted with feature names\n",
      "  \"X does not have valid feature names, but\"\n",
      "C:\\Users\\Karthik\\.conda\\envs\\condamp\\lib\\site-packages\\sklearn\\base.py:451: UserWarning: X does not have valid feature names, but StandardScaler was fitted with feature names\n",
      "  \"X does not have valid feature names, but\"\n",
      "C:\\Users\\Karthik\\.conda\\envs\\condamp\\lib\\site-packages\\sklearn\\base.py:451: UserWarning: X does not have valid feature names, but StandardScaler was fitted with feature names\n",
      "  \"X does not have valid feature names, but\"\n"
     ]
    },
    {
     "name": "stdout",
     "output_type": "stream",
     "text": [
      "Hurt [0.25590267 0.08909045 0.00316544 0.64647603 0.00536542]\n",
      "Hurt [0.10679682 0.09260113 0.0029098  0.78995762 0.00773464]\n"
     ]
    },
    {
     "name": "stderr",
     "output_type": "stream",
     "text": [
      "C:\\Users\\Karthik\\.conda\\envs\\condamp\\lib\\site-packages\\sklearn\\base.py:451: UserWarning: X does not have valid feature names, but StandardScaler was fitted with feature names\n",
      "  \"X does not have valid feature names, but\"\n",
      "C:\\Users\\Karthik\\.conda\\envs\\condamp\\lib\\site-packages\\sklearn\\base.py:451: UserWarning: X does not have valid feature names, but StandardScaler was fitted with feature names\n",
      "  \"X does not have valid feature names, but\"\n",
      "C:\\Users\\Karthik\\.conda\\envs\\condamp\\lib\\site-packages\\sklearn\\base.py:451: UserWarning: X does not have valid feature names, but StandardScaler was fitted with feature names\n",
      "  \"X does not have valid feature names, but\"\n",
      "C:\\Users\\Karthik\\.conda\\envs\\condamp\\lib\\site-packages\\sklearn\\base.py:451: UserWarning: X does not have valid feature names, but StandardScaler was fitted with feature names\n",
      "  \"X does not have valid feature names, but\"\n"
     ]
    },
    {
     "name": "stdout",
     "output_type": "stream",
     "text": [
      "Hurt [0.14446356 0.10334749 0.00166276 0.74143204 0.00909414]\n",
      "Hurt [0.06608136 0.11962292 0.00297027 0.80225509 0.00907037]\n"
     ]
    },
    {
     "name": "stderr",
     "output_type": "stream",
     "text": [
      "C:\\Users\\Karthik\\.conda\\envs\\condamp\\lib\\site-packages\\sklearn\\base.py:451: UserWarning: X does not have valid feature names, but StandardScaler was fitted with feature names\n",
      "  \"X does not have valid feature names, but\"\n",
      "C:\\Users\\Karthik\\.conda\\envs\\condamp\\lib\\site-packages\\sklearn\\base.py:451: UserWarning: X does not have valid feature names, but StandardScaler was fitted with feature names\n",
      "  \"X does not have valid feature names, but\"\n",
      "C:\\Users\\Karthik\\.conda\\envs\\condamp\\lib\\site-packages\\sklearn\\base.py:451: UserWarning: X does not have valid feature names, but StandardScaler was fitted with feature names\n",
      "  \"X does not have valid feature names, but\"\n",
      "C:\\Users\\Karthik\\.conda\\envs\\condamp\\lib\\site-packages\\sklearn\\base.py:451: UserWarning: X does not have valid feature names, but StandardScaler was fitted with feature names\n",
      "  \"X does not have valid feature names, but\"\n"
     ]
    },
    {
     "name": "stdout",
     "output_type": "stream",
     "text": [
      "Hurt [0.09877562 0.1496132  0.00939586 0.72547672 0.0167386 ]\n",
      "Hurt [0.08122392 0.14819881 0.01452981 0.73899813 0.01704933]\n"
     ]
    },
    {
     "name": "stderr",
     "output_type": "stream",
     "text": [
      "C:\\Users\\Karthik\\.conda\\envs\\condamp\\lib\\site-packages\\sklearn\\base.py:451: UserWarning: X does not have valid feature names, but StandardScaler was fitted with feature names\n",
      "  \"X does not have valid feature names, but\"\n",
      "C:\\Users\\Karthik\\.conda\\envs\\condamp\\lib\\site-packages\\sklearn\\base.py:451: UserWarning: X does not have valid feature names, but StandardScaler was fitted with feature names\n",
      "  \"X does not have valid feature names, but\"\n",
      "C:\\Users\\Karthik\\.conda\\envs\\condamp\\lib\\site-packages\\sklearn\\base.py:451: UserWarning: X does not have valid feature names, but StandardScaler was fitted with feature names\n",
      "  \"X does not have valid feature names, but\"\n",
      "C:\\Users\\Karthik\\.conda\\envs\\condamp\\lib\\site-packages\\sklearn\\base.py:451: UserWarning: X does not have valid feature names, but StandardScaler was fitted with feature names\n",
      "  \"X does not have valid feature names, but\"\n"
     ]
    },
    {
     "name": "stdout",
     "output_type": "stream",
     "text": [
      "Hurt [0.08207201 0.16261406 0.01190607 0.71950609 0.02390177]\n",
      "Hurt [0.18270807 0.1744498  0.00608191 0.62686293 0.00989729]\n"
     ]
    },
    {
     "name": "stderr",
     "output_type": "stream",
     "text": [
      "C:\\Users\\Karthik\\.conda\\envs\\condamp\\lib\\site-packages\\sklearn\\base.py:451: UserWarning: X does not have valid feature names, but StandardScaler was fitted with feature names\n",
      "  \"X does not have valid feature names, but\"\n",
      "C:\\Users\\Karthik\\.conda\\envs\\condamp\\lib\\site-packages\\sklearn\\base.py:451: UserWarning: X does not have valid feature names, but StandardScaler was fitted with feature names\n",
      "  \"X does not have valid feature names, but\"\n",
      "C:\\Users\\Karthik\\.conda\\envs\\condamp\\lib\\site-packages\\sklearn\\base.py:451: UserWarning: X does not have valid feature names, but StandardScaler was fitted with feature names\n",
      "  \"X does not have valid feature names, but\"\n",
      "C:\\Users\\Karthik\\.conda\\envs\\condamp\\lib\\site-packages\\sklearn\\base.py:451: UserWarning: X does not have valid feature names, but StandardScaler was fitted with feature names\n",
      "  \"X does not have valid feature names, but\"\n"
     ]
    },
    {
     "name": "stdout",
     "output_type": "stream",
     "text": [
      "Hurt [0.16303983 0.23191826 0.01512907 0.57662364 0.01328921]\n",
      "Hurt [0.10730727 0.29043576 0.01253883 0.56988039 0.01983775]\n"
     ]
    },
    {
     "name": "stderr",
     "output_type": "stream",
     "text": [
      "C:\\Users\\Karthik\\.conda\\envs\\condamp\\lib\\site-packages\\sklearn\\base.py:451: UserWarning: X does not have valid feature names, but StandardScaler was fitted with feature names\n",
      "  \"X does not have valid feature names, but\"\n",
      "C:\\Users\\Karthik\\.conda\\envs\\condamp\\lib\\site-packages\\sklearn\\base.py:451: UserWarning: X does not have valid feature names, but StandardScaler was fitted with feature names\n",
      "  \"X does not have valid feature names, but\"\n"
     ]
    },
    {
     "name": "stdout",
     "output_type": "stream",
     "text": [
      "Hurt [0.19038571 0.36337617 0.0096865  0.4183185  0.01823311]\n"
     ]
    },
    {
     "name": "stderr",
     "output_type": "stream",
     "text": [
      "C:\\Users\\Karthik\\.conda\\envs\\condamp\\lib\\site-packages\\sklearn\\base.py:451: UserWarning: X does not have valid feature names, but StandardScaler was fitted with feature names\n",
      "  \"X does not have valid feature names, but\"\n",
      "C:\\Users\\Karthik\\.conda\\envs\\condamp\\lib\\site-packages\\sklearn\\base.py:451: UserWarning: X does not have valid feature names, but StandardScaler was fitted with feature names\n",
      "  \"X does not have valid feature names, but\"\n"
     ]
    },
    {
     "name": "stdout",
     "output_type": "stream",
     "text": [
      "Ambulance [0.0988988  0.56536867 0.00069739 0.32271612 0.01231902]\n"
     ]
    },
    {
     "name": "stderr",
     "output_type": "stream",
     "text": [
      "C:\\Users\\Karthik\\.conda\\envs\\condamp\\lib\\site-packages\\sklearn\\base.py:451: UserWarning: X does not have valid feature names, but StandardScaler was fitted with feature names\n",
      "  \"X does not have valid feature names, but\"\n",
      "C:\\Users\\Karthik\\.conda\\envs\\condamp\\lib\\site-packages\\sklearn\\base.py:451: UserWarning: X does not have valid feature names, but StandardScaler was fitted with feature names\n",
      "  \"X does not have valid feature names, but\"\n",
      "C:\\Users\\Karthik\\.conda\\envs\\condamp\\lib\\site-packages\\sklearn\\base.py:451: UserWarning: X does not have valid feature names, but StandardScaler was fitted with feature names\n",
      "  \"X does not have valid feature names, but\"\n",
      "C:\\Users\\Karthik\\.conda\\envs\\condamp\\lib\\site-packages\\sklearn\\base.py:451: UserWarning: X does not have valid feature names, but StandardScaler was fitted with feature names\n",
      "  \"X does not have valid feature names, but\"\n"
     ]
    },
    {
     "name": "stdout",
     "output_type": "stream",
     "text": [
      "Allergy [0.40154787 0.24825204 0.0132035  0.22427964 0.11271694]\n",
      "Allergy [0.47943298 0.25785879 0.01234492 0.15796643 0.09239688]\n"
     ]
    },
    {
     "name": "stderr",
     "output_type": "stream",
     "text": [
      "C:\\Users\\Karthik\\.conda\\envs\\condamp\\lib\\site-packages\\sklearn\\base.py:451: UserWarning: X does not have valid feature names, but StandardScaler was fitted with feature names\n",
      "  \"X does not have valid feature names, but\"\n",
      "C:\\Users\\Karthik\\.conda\\envs\\condamp\\lib\\site-packages\\sklearn\\base.py:451: UserWarning: X does not have valid feature names, but StandardScaler was fitted with feature names\n",
      "  \"X does not have valid feature names, but\"\n",
      "C:\\Users\\Karthik\\.conda\\envs\\condamp\\lib\\site-packages\\sklearn\\base.py:451: UserWarning: X does not have valid feature names, but StandardScaler was fitted with feature names\n",
      "  \"X does not have valid feature names, but\"\n",
      "C:\\Users\\Karthik\\.conda\\envs\\condamp\\lib\\site-packages\\sklearn\\base.py:451: UserWarning: X does not have valid feature names, but StandardScaler was fitted with feature names\n",
      "  \"X does not have valid feature names, but\"\n"
     ]
    },
    {
     "name": "stdout",
     "output_type": "stream",
     "text": [
      "Allergy [0.42926638 0.19383273 0.12147457 0.14348979 0.11193652]\n",
      "Allergy [0.51219914 0.16291657 0.1415682  0.12998171 0.05333437]\n"
     ]
    },
    {
     "name": "stderr",
     "output_type": "stream",
     "text": [
      "C:\\Users\\Karthik\\.conda\\envs\\condamp\\lib\\site-packages\\sklearn\\base.py:451: UserWarning: X does not have valid feature names, but StandardScaler was fitted with feature names\n",
      "  \"X does not have valid feature names, but\"\n",
      "C:\\Users\\Karthik\\.conda\\envs\\condamp\\lib\\site-packages\\sklearn\\base.py:451: UserWarning: X does not have valid feature names, but StandardScaler was fitted with feature names\n",
      "  \"X does not have valid feature names, but\"\n",
      "C:\\Users\\Karthik\\.conda\\envs\\condamp\\lib\\site-packages\\sklearn\\base.py:451: UserWarning: X does not have valid feature names, but StandardScaler was fitted with feature names\n",
      "  \"X does not have valid feature names, but\"\n",
      "C:\\Users\\Karthik\\.conda\\envs\\condamp\\lib\\site-packages\\sklearn\\base.py:451: UserWarning: X does not have valid feature names, but StandardScaler was fitted with feature names\n",
      "  \"X does not have valid feature names, but\"\n"
     ]
    },
    {
     "name": "stdout",
     "output_type": "stream",
     "text": [
      "Allergy [0.63380564 0.14850659 0.07471176 0.10825051 0.03472551]\n",
      "Allergy [0.47950896 0.19867768 0.12382132 0.15003688 0.04795516]\n"
     ]
    },
    {
     "name": "stderr",
     "output_type": "stream",
     "text": [
      "C:\\Users\\Karthik\\.conda\\envs\\condamp\\lib\\site-packages\\sklearn\\base.py:451: UserWarning: X does not have valid feature names, but StandardScaler was fitted with feature names\n",
      "  \"X does not have valid feature names, but\"\n",
      "C:\\Users\\Karthik\\.conda\\envs\\condamp\\lib\\site-packages\\sklearn\\base.py:451: UserWarning: X does not have valid feature names, but StandardScaler was fitted with feature names\n",
      "  \"X does not have valid feature names, but\"\n",
      "C:\\Users\\Karthik\\.conda\\envs\\condamp\\lib\\site-packages\\sklearn\\base.py:451: UserWarning: X does not have valid feature names, but StandardScaler was fitted with feature names\n",
      "  \"X does not have valid feature names, but\"\n",
      "C:\\Users\\Karthik\\.conda\\envs\\condamp\\lib\\site-packages\\sklearn\\base.py:451: UserWarning: X does not have valid feature names, but StandardScaler was fitted with feature names\n",
      "  \"X does not have valid feature names, but\"\n"
     ]
    },
    {
     "name": "stdout",
     "output_type": "stream",
     "text": [
      "Allergy [0.55882698 0.16728266 0.1035577  0.14338752 0.02694514]\n",
      "Allergy [0.79262315 0.10851253 0.04332033 0.03851505 0.01702894]\n"
     ]
    },
    {
     "name": "stderr",
     "output_type": "stream",
     "text": [
      "C:\\Users\\Karthik\\.conda\\envs\\condamp\\lib\\site-packages\\sklearn\\base.py:451: UserWarning: X does not have valid feature names, but StandardScaler was fitted with feature names\n",
      "  \"X does not have valid feature names, but\"\n",
      "C:\\Users\\Karthik\\.conda\\envs\\condamp\\lib\\site-packages\\sklearn\\base.py:451: UserWarning: X does not have valid feature names, but StandardScaler was fitted with feature names\n",
      "  \"X does not have valid feature names, but\"\n",
      "C:\\Users\\Karthik\\.conda\\envs\\condamp\\lib\\site-packages\\sklearn\\base.py:451: UserWarning: X does not have valid feature names, but StandardScaler was fitted with feature names\n",
      "  \"X does not have valid feature names, but\"\n",
      "C:\\Users\\Karthik\\.conda\\envs\\condamp\\lib\\site-packages\\sklearn\\base.py:451: UserWarning: X does not have valid feature names, but StandardScaler was fitted with feature names\n",
      "  \"X does not have valid feature names, but\"\n"
     ]
    },
    {
     "name": "stdout",
     "output_type": "stream",
     "text": [
      "Allergy [0.81429367 0.11698728 0.0220464  0.03509793 0.01157472]\n",
      "Allergy [0.88768748 0.07784521 0.00853784 0.0218231  0.00410637]\n"
     ]
    },
    {
     "name": "stderr",
     "output_type": "stream",
     "text": [
      "C:\\Users\\Karthik\\.conda\\envs\\condamp\\lib\\site-packages\\sklearn\\base.py:451: UserWarning: X does not have valid feature names, but StandardScaler was fitted with feature names\n",
      "  \"X does not have valid feature names, but\"\n",
      "C:\\Users\\Karthik\\.conda\\envs\\condamp\\lib\\site-packages\\sklearn\\base.py:451: UserWarning: X does not have valid feature names, but StandardScaler was fitted with feature names\n",
      "  \"X does not have valid feature names, but\"\n",
      "C:\\Users\\Karthik\\.conda\\envs\\condamp\\lib\\site-packages\\sklearn\\base.py:451: UserWarning: X does not have valid feature names, but StandardScaler was fitted with feature names\n",
      "  \"X does not have valid feature names, but\"\n",
      "C:\\Users\\Karthik\\.conda\\envs\\condamp\\lib\\site-packages\\sklearn\\base.py:451: UserWarning: X does not have valid feature names, but StandardScaler was fitted with feature names\n",
      "  \"X does not have valid feature names, but\"\n"
     ]
    },
    {
     "name": "stdout",
     "output_type": "stream",
     "text": [
      "Allergy [0.73052651 0.16209848 0.017501   0.07282687 0.01704715]\n",
      "Allergy [0.78718988 0.11703794 0.01186389 0.07299469 0.01091359]\n"
     ]
    },
    {
     "name": "stderr",
     "output_type": "stream",
     "text": [
      "C:\\Users\\Karthik\\.conda\\envs\\condamp\\lib\\site-packages\\sklearn\\base.py:451: UserWarning: X does not have valid feature names, but StandardScaler was fitted with feature names\n",
      "  \"X does not have valid feature names, but\"\n",
      "C:\\Users\\Karthik\\.conda\\envs\\condamp\\lib\\site-packages\\sklearn\\base.py:451: UserWarning: X does not have valid feature names, but StandardScaler was fitted with feature names\n",
      "  \"X does not have valid feature names, but\"\n",
      "C:\\Users\\Karthik\\.conda\\envs\\condamp\\lib\\site-packages\\sklearn\\base.py:451: UserWarning: X does not have valid feature names, but StandardScaler was fitted with feature names\n",
      "  \"X does not have valid feature names, but\"\n",
      "C:\\Users\\Karthik\\.conda\\envs\\condamp\\lib\\site-packages\\sklearn\\base.py:451: UserWarning: X does not have valid feature names, but StandardScaler was fitted with feature names\n",
      "  \"X does not have valid feature names, but\"\n"
     ]
    },
    {
     "name": "stdout",
     "output_type": "stream",
     "text": [
      "Allergy [0.72602503 0.12831513 0.01470468 0.11086147 0.02009369]\n",
      "Allergy [0.82089506 0.08027443 0.00813131 0.08273142 0.00796778]\n"
     ]
    },
    {
     "name": "stderr",
     "output_type": "stream",
     "text": [
      "C:\\Users\\Karthik\\.conda\\envs\\condamp\\lib\\site-packages\\sklearn\\base.py:451: UserWarning: X does not have valid feature names, but StandardScaler was fitted with feature names\n",
      "  \"X does not have valid feature names, but\"\n",
      "C:\\Users\\Karthik\\.conda\\envs\\condamp\\lib\\site-packages\\sklearn\\base.py:451: UserWarning: X does not have valid feature names, but StandardScaler was fitted with feature names\n",
      "  \"X does not have valid feature names, but\"\n",
      "C:\\Users\\Karthik\\.conda\\envs\\condamp\\lib\\site-packages\\sklearn\\base.py:451: UserWarning: X does not have valid feature names, but StandardScaler was fitted with feature names\n",
      "  \"X does not have valid feature names, but\"\n",
      "C:\\Users\\Karthik\\.conda\\envs\\condamp\\lib\\site-packages\\sklearn\\base.py:451: UserWarning: X does not have valid feature names, but StandardScaler was fitted with feature names\n",
      "  \"X does not have valid feature names, but\"\n"
     ]
    },
    {
     "name": "stdout",
     "output_type": "stream",
     "text": [
      "Allergy [0.8127068  0.05921594 0.00978508 0.11243126 0.00586092]\n",
      "Allergy [0.66130244 0.07268825 0.02944566 0.22269526 0.0138684 ]\n"
     ]
    },
    {
     "name": "stderr",
     "output_type": "stream",
     "text": [
      "C:\\Users\\Karthik\\.conda\\envs\\condamp\\lib\\site-packages\\sklearn\\base.py:451: UserWarning: X does not have valid feature names, but StandardScaler was fitted with feature names\n",
      "  \"X does not have valid feature names, but\"\n",
      "C:\\Users\\Karthik\\.conda\\envs\\condamp\\lib\\site-packages\\sklearn\\base.py:451: UserWarning: X does not have valid feature names, but StandardScaler was fitted with feature names\n",
      "  \"X does not have valid feature names, but\"\n",
      "C:\\Users\\Karthik\\.conda\\envs\\condamp\\lib\\site-packages\\sklearn\\base.py:451: UserWarning: X does not have valid feature names, but StandardScaler was fitted with feature names\n",
      "  \"X does not have valid feature names, but\"\n",
      "C:\\Users\\Karthik\\.conda\\envs\\condamp\\lib\\site-packages\\sklearn\\base.py:451: UserWarning: X does not have valid feature names, but StandardScaler was fitted with feature names\n",
      "  \"X does not have valid feature names, but\"\n"
     ]
    },
    {
     "name": "stdout",
     "output_type": "stream",
     "text": [
      "Allergy [0.72074318 0.05522976 0.03478109 0.17758512 0.01166085]\n",
      "Allergy [0.69462428 0.04870003 0.03142684 0.20819379 0.01705507]\n"
     ]
    },
    {
     "name": "stderr",
     "output_type": "stream",
     "text": [
      "C:\\Users\\Karthik\\.conda\\envs\\condamp\\lib\\site-packages\\sklearn\\base.py:451: UserWarning: X does not have valid feature names, but StandardScaler was fitted with feature names\n",
      "  \"X does not have valid feature names, but\"\n",
      "C:\\Users\\Karthik\\.conda\\envs\\condamp\\lib\\site-packages\\sklearn\\base.py:451: UserWarning: X does not have valid feature names, but StandardScaler was fitted with feature names\n",
      "  \"X does not have valid feature names, but\"\n",
      "C:\\Users\\Karthik\\.conda\\envs\\condamp\\lib\\site-packages\\sklearn\\base.py:451: UserWarning: X does not have valid feature names, but StandardScaler was fitted with feature names\n",
      "  \"X does not have valid feature names, but\"\n",
      "C:\\Users\\Karthik\\.conda\\envs\\condamp\\lib\\site-packages\\sklearn\\base.py:451: UserWarning: X does not have valid feature names, but StandardScaler was fitted with feature names\n",
      "  \"X does not have valid feature names, but\"\n"
     ]
    },
    {
     "name": "stdout",
     "output_type": "stream",
     "text": [
      "Allergy [0.65991678 0.05778152 0.02530726 0.24157543 0.015419  ]\n",
      "Allergy [0.6737976  0.0693837  0.01060301 0.23004382 0.01617187]\n"
     ]
    },
    {
     "name": "stderr",
     "output_type": "stream",
     "text": [
      "C:\\Users\\Karthik\\.conda\\envs\\condamp\\lib\\site-packages\\sklearn\\base.py:451: UserWarning: X does not have valid feature names, but StandardScaler was fitted with feature names\n",
      "  \"X does not have valid feature names, but\"\n",
      "C:\\Users\\Karthik\\.conda\\envs\\condamp\\lib\\site-packages\\sklearn\\base.py:451: UserWarning: X does not have valid feature names, but StandardScaler was fitted with feature names\n",
      "  \"X does not have valid feature names, but\"\n",
      "C:\\Users\\Karthik\\.conda\\envs\\condamp\\lib\\site-packages\\sklearn\\base.py:451: UserWarning: X does not have valid feature names, but StandardScaler was fitted with feature names\n",
      "  \"X does not have valid feature names, but\"\n",
      "C:\\Users\\Karthik\\.conda\\envs\\condamp\\lib\\site-packages\\sklearn\\base.py:451: UserWarning: X does not have valid feature names, but StandardScaler was fitted with feature names\n",
      "  \"X does not have valid feature names, but\"\n"
     ]
    },
    {
     "name": "stdout",
     "output_type": "stream",
     "text": [
      "Allergy [0.8037776  0.05364387 0.01322403 0.12063548 0.00871902]\n",
      "Allergy [0.79713571 0.0599215  0.01007771 0.12574452 0.00712056]\n"
     ]
    },
    {
     "name": "stderr",
     "output_type": "stream",
     "text": [
      "C:\\Users\\Karthik\\.conda\\envs\\condamp\\lib\\site-packages\\sklearn\\base.py:451: UserWarning: X does not have valid feature names, but StandardScaler was fitted with feature names\n",
      "  \"X does not have valid feature names, but\"\n",
      "C:\\Users\\Karthik\\.conda\\envs\\condamp\\lib\\site-packages\\sklearn\\base.py:451: UserWarning: X does not have valid feature names, but StandardScaler was fitted with feature names\n",
      "  \"X does not have valid feature names, but\"\n",
      "C:\\Users\\Karthik\\.conda\\envs\\condamp\\lib\\site-packages\\sklearn\\base.py:451: UserWarning: X does not have valid feature names, but StandardScaler was fitted with feature names\n",
      "  \"X does not have valid feature names, but\"\n",
      "C:\\Users\\Karthik\\.conda\\envs\\condamp\\lib\\site-packages\\sklearn\\base.py:451: UserWarning: X does not have valid feature names, but StandardScaler was fitted with feature names\n",
      "  \"X does not have valid feature names, but\"\n"
     ]
    },
    {
     "name": "stdout",
     "output_type": "stream",
     "text": [
      "Allergy [0.64547987 0.0692518  0.01209211 0.26056486 0.01261137]\n",
      "Hurt [0.34448158 0.08455371 0.00859784 0.54377398 0.01859289]\n"
     ]
    },
    {
     "name": "stderr",
     "output_type": "stream",
     "text": [
      "C:\\Users\\Karthik\\.conda\\envs\\condamp\\lib\\site-packages\\sklearn\\base.py:451: UserWarning: X does not have valid feature names, but StandardScaler was fitted with feature names\n",
      "  \"X does not have valid feature names, but\"\n",
      "C:\\Users\\Karthik\\.conda\\envs\\condamp\\lib\\site-packages\\sklearn\\base.py:451: UserWarning: X does not have valid feature names, but StandardScaler was fitted with feature names\n",
      "  \"X does not have valid feature names, but\"\n",
      "C:\\Users\\Karthik\\.conda\\envs\\condamp\\lib\\site-packages\\sklearn\\base.py:451: UserWarning: X does not have valid feature names, but StandardScaler was fitted with feature names\n",
      "  \"X does not have valid feature names, but\"\n",
      "C:\\Users\\Karthik\\.conda\\envs\\condamp\\lib\\site-packages\\sklearn\\base.py:451: UserWarning: X does not have valid feature names, but StandardScaler was fitted with feature names\n",
      "  \"X does not have valid feature names, but\"\n"
     ]
    },
    {
     "name": "stdout",
     "output_type": "stream",
     "text": [
      "Hurt [0.37043074 0.06183708 0.00778049 0.54545303 0.01449866]\n",
      "Hurt [0.38484435 0.06901365 0.00716605 0.52296765 0.01600829]\n"
     ]
    },
    {
     "name": "stderr",
     "output_type": "stream",
     "text": [
      "C:\\Users\\Karthik\\.conda\\envs\\condamp\\lib\\site-packages\\sklearn\\base.py:451: UserWarning: X does not have valid feature names, but StandardScaler was fitted with feature names\n",
      "  \"X does not have valid feature names, but\"\n",
      "C:\\Users\\Karthik\\.conda\\envs\\condamp\\lib\\site-packages\\sklearn\\base.py:451: UserWarning: X does not have valid feature names, but StandardScaler was fitted with feature names\n",
      "  \"X does not have valid feature names, but\"\n",
      "C:\\Users\\Karthik\\.conda\\envs\\condamp\\lib\\site-packages\\sklearn\\base.py:451: UserWarning: X does not have valid feature names, but StandardScaler was fitted with feature names\n",
      "  \"X does not have valid feature names, but\"\n",
      "C:\\Users\\Karthik\\.conda\\envs\\condamp\\lib\\site-packages\\sklearn\\base.py:451: UserWarning: X does not have valid feature names, but StandardScaler was fitted with feature names\n",
      "  \"X does not have valid feature names, but\"\n"
     ]
    },
    {
     "name": "stdout",
     "output_type": "stream",
     "text": [
      "Allergy [0.5413412  0.06071502 0.01350947 0.3737198  0.0107145 ]\n",
      "Allergy [0.5102816  0.08566822 0.00876922 0.38465327 0.0106277 ]\n"
     ]
    },
    {
     "name": "stderr",
     "output_type": "stream",
     "text": [
      "C:\\Users\\Karthik\\.conda\\envs\\condamp\\lib\\site-packages\\sklearn\\base.py:451: UserWarning: X does not have valid feature names, but StandardScaler was fitted with feature names\n",
      "  \"X does not have valid feature names, but\"\n",
      "C:\\Users\\Karthik\\.conda\\envs\\condamp\\lib\\site-packages\\sklearn\\base.py:451: UserWarning: X does not have valid feature names, but StandardScaler was fitted with feature names\n",
      "  \"X does not have valid feature names, but\"\n",
      "C:\\Users\\Karthik\\.conda\\envs\\condamp\\lib\\site-packages\\sklearn\\base.py:451: UserWarning: X does not have valid feature names, but StandardScaler was fitted with feature names\n",
      "  \"X does not have valid feature names, but\"\n",
      "C:\\Users\\Karthik\\.conda\\envs\\condamp\\lib\\site-packages\\sklearn\\base.py:451: UserWarning: X does not have valid feature names, but StandardScaler was fitted with feature names\n",
      "  \"X does not have valid feature names, but\"\n"
     ]
    },
    {
     "name": "stdout",
     "output_type": "stream",
     "text": [
      "Hurt [0.23412692 0.1256204  0.00393875 0.59710555 0.03920838]\n",
      "Hurt [0.07980634 0.18401424 0.00293763 0.67333172 0.05991006]\n"
     ]
    },
    {
     "name": "stderr",
     "output_type": "stream",
     "text": [
      "C:\\Users\\Karthik\\.conda\\envs\\condamp\\lib\\site-packages\\sklearn\\base.py:451: UserWarning: X does not have valid feature names, but StandardScaler was fitted with feature names\n",
      "  \"X does not have valid feature names, but\"\n",
      "C:\\Users\\Karthik\\.conda\\envs\\condamp\\lib\\site-packages\\sklearn\\base.py:451: UserWarning: X does not have valid feature names, but StandardScaler was fitted with feature names\n",
      "  \"X does not have valid feature names, but\"\n",
      "C:\\Users\\Karthik\\.conda\\envs\\condamp\\lib\\site-packages\\sklearn\\base.py:451: UserWarning: X does not have valid feature names, but StandardScaler was fitted with feature names\n",
      "  \"X does not have valid feature names, but\"\n",
      "C:\\Users\\Karthik\\.conda\\envs\\condamp\\lib\\site-packages\\sklearn\\base.py:451: UserWarning: X does not have valid feature names, but StandardScaler was fitted with feature names\n",
      "  \"X does not have valid feature names, but\"\n"
     ]
    },
    {
     "name": "stdout",
     "output_type": "stream",
     "text": [
      "Hurt [0.25373162 0.32055321 0.00311811 0.34681331 0.07578375]\n",
      "Hurt [0.1224324  0.38029081 0.00121501 0.41940915 0.07665262]\n"
     ]
    },
    {
     "name": "stderr",
     "output_type": "stream",
     "text": [
      "C:\\Users\\Karthik\\.conda\\envs\\condamp\\lib\\site-packages\\sklearn\\base.py:451: UserWarning: X does not have valid feature names, but StandardScaler was fitted with feature names\n",
      "  \"X does not have valid feature names, but\"\n",
      "C:\\Users\\Karthik\\.conda\\envs\\condamp\\lib\\site-packages\\sklearn\\base.py:451: UserWarning: X does not have valid feature names, but StandardScaler was fitted with feature names\n",
      "  \"X does not have valid feature names, but\"\n",
      "C:\\Users\\Karthik\\.conda\\envs\\condamp\\lib\\site-packages\\sklearn\\base.py:451: UserWarning: X does not have valid feature names, but StandardScaler was fitted with feature names\n",
      "  \"X does not have valid feature names, but\"\n",
      "C:\\Users\\Karthik\\.conda\\envs\\condamp\\lib\\site-packages\\sklearn\\base.py:451: UserWarning: X does not have valid feature names, but StandardScaler was fitted with feature names\n",
      "  \"X does not have valid feature names, but\"\n"
     ]
    },
    {
     "name": "stdout",
     "output_type": "stream",
     "text": [
      "Hurt [0.11767755 0.31167119 0.0030449  0.4717788  0.09582757]\n",
      "Hurt [0.07648405 0.29892472 0.00286655 0.50610043 0.11562425]\n"
     ]
    },
    {
     "name": "stderr",
     "output_type": "stream",
     "text": [
      "C:\\Users\\Karthik\\.conda\\envs\\condamp\\lib\\site-packages\\sklearn\\base.py:451: UserWarning: X does not have valid feature names, but StandardScaler was fitted with feature names\n",
      "  \"X does not have valid feature names, but\"\n",
      "C:\\Users\\Karthik\\.conda\\envs\\condamp\\lib\\site-packages\\sklearn\\base.py:451: UserWarning: X does not have valid feature names, but StandardScaler was fitted with feature names\n",
      "  \"X does not have valid feature names, but\"\n",
      "C:\\Users\\Karthik\\.conda\\envs\\condamp\\lib\\site-packages\\sklearn\\base.py:451: UserWarning: X does not have valid feature names, but StandardScaler was fitted with feature names\n",
      "  \"X does not have valid feature names, but\"\n",
      "C:\\Users\\Karthik\\.conda\\envs\\condamp\\lib\\site-packages\\sklearn\\base.py:451: UserWarning: X does not have valid feature names, but StandardScaler was fitted with feature names\n",
      "  \"X does not have valid feature names, but\"\n"
     ]
    },
    {
     "name": "stdout",
     "output_type": "stream",
     "text": [
      "Hurt [0.13808478 0.28375139 0.00165613 0.40405468 0.17245303]\n",
      "Hurt [0.16567179 0.32259569 0.00194643 0.37060398 0.1391821 ]\n"
     ]
    },
    {
     "name": "stderr",
     "output_type": "stream",
     "text": [
      "C:\\Users\\Karthik\\.conda\\envs\\condamp\\lib\\site-packages\\sklearn\\base.py:451: UserWarning: X does not have valid feature names, but StandardScaler was fitted with feature names\n",
      "  \"X does not have valid feature names, but\"\n",
      "C:\\Users\\Karthik\\.conda\\envs\\condamp\\lib\\site-packages\\sklearn\\base.py:451: UserWarning: X does not have valid feature names, but StandardScaler was fitted with feature names\n",
      "  \"X does not have valid feature names, but\"\n",
      "C:\\Users\\Karthik\\.conda\\envs\\condamp\\lib\\site-packages\\sklearn\\base.py:451: UserWarning: X does not have valid feature names, but StandardScaler was fitted with feature names\n",
      "  \"X does not have valid feature names, but\"\n",
      "C:\\Users\\Karthik\\.conda\\envs\\condamp\\lib\\site-packages\\sklearn\\base.py:451: UserWarning: X does not have valid feature names, but StandardScaler was fitted with feature names\n",
      "  \"X does not have valid feature names, but\"\n"
     ]
    },
    {
     "name": "stdout",
     "output_type": "stream",
     "text": [
      "Hurt [0.10896604 0.26975254 0.00225297 0.51322649 0.10580196]\n",
      "Hurt [0.10325362 0.29976776 0.00234009 0.46935607 0.12528247]\n"
     ]
    },
    {
     "name": "stderr",
     "output_type": "stream",
     "text": [
      "C:\\Users\\Karthik\\.conda\\envs\\condamp\\lib\\site-packages\\sklearn\\base.py:451: UserWarning: X does not have valid feature names, but StandardScaler was fitted with feature names\n",
      "  \"X does not have valid feature names, but\"\n",
      "C:\\Users\\Karthik\\.conda\\envs\\condamp\\lib\\site-packages\\sklearn\\base.py:451: UserWarning: X does not have valid feature names, but StandardScaler was fitted with feature names\n",
      "  \"X does not have valid feature names, but\"\n",
      "C:\\Users\\Karthik\\.conda\\envs\\condamp\\lib\\site-packages\\sklearn\\base.py:451: UserWarning: X does not have valid feature names, but StandardScaler was fitted with feature names\n",
      "  \"X does not have valid feature names, but\"\n",
      "C:\\Users\\Karthik\\.conda\\envs\\condamp\\lib\\site-packages\\sklearn\\base.py:451: UserWarning: X does not have valid feature names, but StandardScaler was fitted with feature names\n",
      "  \"X does not have valid feature names, but\"\n"
     ]
    },
    {
     "name": "stdout",
     "output_type": "stream",
     "text": [
      "Hurt [0.10287517 0.25142838 0.00353852 0.51461138 0.12754656]\n",
      "Hurt [0.07504515 0.27659117 0.00115884 0.6013678  0.04583704]\n"
     ]
    },
    {
     "name": "stderr",
     "output_type": "stream",
     "text": [
      "C:\\Users\\Karthik\\.conda\\envs\\condamp\\lib\\site-packages\\sklearn\\base.py:451: UserWarning: X does not have valid feature names, but StandardScaler was fitted with feature names\n",
      "  \"X does not have valid feature names, but\"\n",
      "C:\\Users\\Karthik\\.conda\\envs\\condamp\\lib\\site-packages\\sklearn\\base.py:451: UserWarning: X does not have valid feature names, but StandardScaler was fitted with feature names\n",
      "  \"X does not have valid feature names, but\"\n",
      "C:\\Users\\Karthik\\.conda\\envs\\condamp\\lib\\site-packages\\sklearn\\base.py:451: UserWarning: X does not have valid feature names, but StandardScaler was fitted with feature names\n",
      "  \"X does not have valid feature names, but\"\n",
      "C:\\Users\\Karthik\\.conda\\envs\\condamp\\lib\\site-packages\\sklearn\\base.py:451: UserWarning: X does not have valid feature names, but StandardScaler was fitted with feature names\n",
      "  \"X does not have valid feature names, but\"\n"
     ]
    },
    {
     "name": "stdout",
     "output_type": "stream",
     "text": [
      "Hurt [0.17110284 0.32466117 0.00156535 0.46839524 0.0342754 ]\n",
      "Hurt [0.16386851 0.34705953 0.00053769 0.45825283 0.03028144]\n"
     ]
    },
    {
     "name": "stderr",
     "output_type": "stream",
     "text": [
      "C:\\Users\\Karthik\\.conda\\envs\\condamp\\lib\\site-packages\\sklearn\\base.py:451: UserWarning: X does not have valid feature names, but StandardScaler was fitted with feature names\n",
      "  \"X does not have valid feature names, but\"\n",
      "C:\\Users\\Karthik\\.conda\\envs\\condamp\\lib\\site-packages\\sklearn\\base.py:451: UserWarning: X does not have valid feature names, but StandardScaler was fitted with feature names\n",
      "  \"X does not have valid feature names, but\"\n",
      "C:\\Users\\Karthik\\.conda\\envs\\condamp\\lib\\site-packages\\sklearn\\base.py:451: UserWarning: X does not have valid feature names, but StandardScaler was fitted with feature names\n",
      "  \"X does not have valid feature names, but\"\n",
      "C:\\Users\\Karthik\\.conda\\envs\\condamp\\lib\\site-packages\\sklearn\\base.py:451: UserWarning: X does not have valid feature names, but StandardScaler was fitted with feature names\n",
      "  \"X does not have valid feature names, but\"\n"
     ]
    },
    {
     "name": "stdout",
     "output_type": "stream",
     "text": [
      "Ambulance [0.12605497 0.47240632 0.0006809  0.36630682 0.03455098]\n",
      "Ambulance [1.69100780e-01 5.07587445e-01 2.76945512e-04 2.81587555e-01\n",
      " 4.14472752e-02]\n"
     ]
    },
    {
     "name": "stderr",
     "output_type": "stream",
     "text": [
      "C:\\Users\\Karthik\\.conda\\envs\\condamp\\lib\\site-packages\\sklearn\\base.py:451: UserWarning: X does not have valid feature names, but StandardScaler was fitted with feature names\n",
      "  \"X does not have valid feature names, but\"\n",
      "C:\\Users\\Karthik\\.conda\\envs\\condamp\\lib\\site-packages\\sklearn\\base.py:451: UserWarning: X does not have valid feature names, but StandardScaler was fitted with feature names\n",
      "  \"X does not have valid feature names, but\"\n",
      "C:\\Users\\Karthik\\.conda\\envs\\condamp\\lib\\site-packages\\sklearn\\base.py:451: UserWarning: X does not have valid feature names, but StandardScaler was fitted with feature names\n",
      "  \"X does not have valid feature names, but\"\n",
      "C:\\Users\\Karthik\\.conda\\envs\\condamp\\lib\\site-packages\\sklearn\\base.py:451: UserWarning: X does not have valid feature names, but StandardScaler was fitted with feature names\n",
      "  \"X does not have valid feature names, but\"\n"
     ]
    },
    {
     "name": "stdout",
     "output_type": "stream",
     "text": [
      "Ambulance [4.06412747e-02 6.17144583e-01 1.09334197e-04 3.02351646e-01\n",
      " 3.97531623e-02]\n",
      "Ambulance [9.36762748e-02 5.43484532e-01 1.39674556e-05 3.01462974e-01\n",
      " 6.13622514e-02]\n"
     ]
    },
    {
     "name": "stderr",
     "output_type": "stream",
     "text": [
      "C:\\Users\\Karthik\\.conda\\envs\\condamp\\lib\\site-packages\\sklearn\\base.py:451: UserWarning: X does not have valid feature names, but StandardScaler was fitted with feature names\n",
      "  \"X does not have valid feature names, but\"\n",
      "C:\\Users\\Karthik\\.conda\\envs\\condamp\\lib\\site-packages\\sklearn\\base.py:451: UserWarning: X does not have valid feature names, but StandardScaler was fitted with feature names\n",
      "  \"X does not have valid feature names, but\"\n"
     ]
    },
    {
     "name": "stdout",
     "output_type": "stream",
     "text": [
      "Ambulance [2.15732115e-02 5.01549854e-01 1.80684871e-05 3.90502469e-01\n",
      " 8.63563973e-02]\n"
     ]
    },
    {
     "name": "stderr",
     "output_type": "stream",
     "text": [
      "C:\\Users\\Karthik\\.conda\\envs\\condamp\\lib\\site-packages\\sklearn\\base.py:451: UserWarning: X does not have valid feature names, but StandardScaler was fitted with feature names\n",
      "  \"X does not have valid feature names, but\"\n",
      "C:\\Users\\Karthik\\.conda\\envs\\condamp\\lib\\site-packages\\sklearn\\base.py:451: UserWarning: X does not have valid feature names, but StandardScaler was fitted with feature names\n",
      "  \"X does not have valid feature names, but\"\n",
      "C:\\Users\\Karthik\\.conda\\envs\\condamp\\lib\\site-packages\\sklearn\\base.py:451: UserWarning: X does not have valid feature names, but StandardScaler was fitted with feature names\n",
      "  \"X does not have valid feature names, but\"\n",
      "C:\\Users\\Karthik\\.conda\\envs\\condamp\\lib\\site-packages\\sklearn\\base.py:451: UserWarning: X does not have valid feature names, but StandardScaler was fitted with feature names\n",
      "  \"X does not have valid feature names, but\"\n"
     ]
    },
    {
     "name": "stdout",
     "output_type": "stream",
     "text": [
      "Ambulance [3.50876120e-03 8.86079818e-01 2.60405980e-05 7.66822827e-02\n",
      " 3.37030979e-02]\n",
      "Ambulance [1.71887962e-02 8.95936456e-01 1.38465240e-06 4.19007739e-02\n",
      " 4.49725889e-02]\n"
     ]
    },
    {
     "name": "stderr",
     "output_type": "stream",
     "text": [
      "C:\\Users\\Karthik\\.conda\\envs\\condamp\\lib\\site-packages\\sklearn\\base.py:451: UserWarning: X does not have valid feature names, but StandardScaler was fitted with feature names\n",
      "  \"X does not have valid feature names, but\"\n",
      "C:\\Users\\Karthik\\.conda\\envs\\condamp\\lib\\site-packages\\sklearn\\base.py:451: UserWarning: X does not have valid feature names, but StandardScaler was fitted with feature names\n",
      "  \"X does not have valid feature names, but\"\n",
      "C:\\Users\\Karthik\\.conda\\envs\\condamp\\lib\\site-packages\\sklearn\\base.py:451: UserWarning: X does not have valid feature names, but StandardScaler was fitted with feature names\n",
      "  \"X does not have valid feature names, but\"\n",
      "C:\\Users\\Karthik\\.conda\\envs\\condamp\\lib\\site-packages\\sklearn\\base.py:451: UserWarning: X does not have valid feature names, but StandardScaler was fitted with feature names\n",
      "  \"X does not have valid feature names, but\"\n"
     ]
    },
    {
     "name": "stdout",
     "output_type": "stream",
     "text": [
      "Ambulance [1.29444047e-02 9.07076804e-01 9.63782688e-07 4.09893211e-02\n",
      " 3.89885066e-02]\n",
      "Ambulance [2.36312116e-02 8.93915536e-01 3.68738731e-05 6.14480559e-02\n",
      " 2.09683222e-02]\n"
     ]
    },
    {
     "name": "stderr",
     "output_type": "stream",
     "text": [
      "C:\\Users\\Karthik\\.conda\\envs\\condamp\\lib\\site-packages\\sklearn\\base.py:451: UserWarning: X does not have valid feature names, but StandardScaler was fitted with feature names\n",
      "  \"X does not have valid feature names, but\"\n",
      "C:\\Users\\Karthik\\.conda\\envs\\condamp\\lib\\site-packages\\sklearn\\base.py:451: UserWarning: X does not have valid feature names, but StandardScaler was fitted with feature names\n",
      "  \"X does not have valid feature names, but\"\n",
      "C:\\Users\\Karthik\\.conda\\envs\\condamp\\lib\\site-packages\\sklearn\\base.py:451: UserWarning: X does not have valid feature names, but StandardScaler was fitted with feature names\n",
      "  \"X does not have valid feature names, but\"\n",
      "C:\\Users\\Karthik\\.conda\\envs\\condamp\\lib\\site-packages\\sklearn\\base.py:451: UserWarning: X does not have valid feature names, but StandardScaler was fitted with feature names\n",
      "  \"X does not have valid feature names, but\"\n"
     ]
    },
    {
     "name": "stdout",
     "output_type": "stream",
     "text": [
      "Ambulance [3.52830570e-02 8.65918668e-01 4.84886019e-05 5.48066453e-02\n",
      " 4.39431408e-02]\n",
      "Ambulance [0.04551935 0.70353401 0.00407263 0.11445918 0.13241483]\n"
     ]
    },
    {
     "name": "stderr",
     "output_type": "stream",
     "text": [
      "C:\\Users\\Karthik\\.conda\\envs\\condamp\\lib\\site-packages\\sklearn\\base.py:451: UserWarning: X does not have valid feature names, but StandardScaler was fitted with feature names\n",
      "  \"X does not have valid feature names, but\"\n",
      "C:\\Users\\Karthik\\.conda\\envs\\condamp\\lib\\site-packages\\sklearn\\base.py:451: UserWarning: X does not have valid feature names, but StandardScaler was fitted with feature names\n",
      "  \"X does not have valid feature names, but\"\n",
      "C:\\Users\\Karthik\\.conda\\envs\\condamp\\lib\\site-packages\\sklearn\\base.py:451: UserWarning: X does not have valid feature names, but StandardScaler was fitted with feature names\n",
      "  \"X does not have valid feature names, but\"\n",
      "C:\\Users\\Karthik\\.conda\\envs\\condamp\\lib\\site-packages\\sklearn\\base.py:451: UserWarning: X does not have valid feature names, but StandardScaler was fitted with feature names\n",
      "  \"X does not have valid feature names, but\"\n"
     ]
    },
    {
     "name": "stdout",
     "output_type": "stream",
     "text": [
      "Ambulance [0.07757467 0.54605312 0.00450828 0.22041613 0.1514478 ]\n",
      "Ambulance [0.08012714 0.45622133 0.00794054 0.29203903 0.16367196]\n"
     ]
    },
    {
     "name": "stderr",
     "output_type": "stream",
     "text": [
      "C:\\Users\\Karthik\\.conda\\envs\\condamp\\lib\\site-packages\\sklearn\\base.py:451: UserWarning: X does not have valid feature names, but StandardScaler was fitted with feature names\n",
      "  \"X does not have valid feature names, but\"\n",
      "C:\\Users\\Karthik\\.conda\\envs\\condamp\\lib\\site-packages\\sklearn\\base.py:451: UserWarning: X does not have valid feature names, but StandardScaler was fitted with feature names\n",
      "  \"X does not have valid feature names, but\"\n",
      "C:\\Users\\Karthik\\.conda\\envs\\condamp\\lib\\site-packages\\sklearn\\base.py:451: UserWarning: X does not have valid feature names, but StandardScaler was fitted with feature names\n",
      "  \"X does not have valid feature names, but\"\n",
      "C:\\Users\\Karthik\\.conda\\envs\\condamp\\lib\\site-packages\\sklearn\\base.py:451: UserWarning: X does not have valid feature names, but StandardScaler was fitted with feature names\n",
      "  \"X does not have valid feature names, but\"\n"
     ]
    },
    {
     "name": "stdout",
     "output_type": "stream",
     "text": [
      "Hurt [0.31439789 0.23237503 0.00659909 0.34123984 0.10538815]\n",
      "Allergy [0.37442227 0.18578396 0.00377819 0.36583883 0.07017675]\n"
     ]
    },
    {
     "name": "stderr",
     "output_type": "stream",
     "text": [
      "C:\\Users\\Karthik\\.conda\\envs\\condamp\\lib\\site-packages\\sklearn\\base.py:451: UserWarning: X does not have valid feature names, but StandardScaler was fitted with feature names\n",
      "  \"X does not have valid feature names, but\"\n",
      "C:\\Users\\Karthik\\.conda\\envs\\condamp\\lib\\site-packages\\sklearn\\base.py:451: UserWarning: X does not have valid feature names, but StandardScaler was fitted with feature names\n",
      "  \"X does not have valid feature names, but\"\n",
      "C:\\Users\\Karthik\\.conda\\envs\\condamp\\lib\\site-packages\\sklearn\\base.py:451: UserWarning: X does not have valid feature names, but StandardScaler was fitted with feature names\n",
      "  \"X does not have valid feature names, but\"\n",
      "C:\\Users\\Karthik\\.conda\\envs\\condamp\\lib\\site-packages\\sklearn\\base.py:451: UserWarning: X does not have valid feature names, but StandardScaler was fitted with feature names\n",
      "  \"X does not have valid feature names, but\"\n"
     ]
    },
    {
     "name": "stdout",
     "output_type": "stream",
     "text": [
      "Hurt [0.33413448 0.1182177  0.00475368 0.47002696 0.07286719]\n",
      "Hurt [0.39014352 0.12109683 0.00052957 0.45756718 0.0306629 ]\n"
     ]
    },
    {
     "name": "stderr",
     "output_type": "stream",
     "text": [
      "C:\\Users\\Karthik\\.conda\\envs\\condamp\\lib\\site-packages\\sklearn\\base.py:451: UserWarning: X does not have valid feature names, but StandardScaler was fitted with feature names\n",
      "  \"X does not have valid feature names, but\"\n",
      "C:\\Users\\Karthik\\.conda\\envs\\condamp\\lib\\site-packages\\sklearn\\base.py:451: UserWarning: X does not have valid feature names, but StandardScaler was fitted with feature names\n",
      "  \"X does not have valid feature names, but\"\n",
      "C:\\Users\\Karthik\\.conda\\envs\\condamp\\lib\\site-packages\\sklearn\\base.py:451: UserWarning: X does not have valid feature names, but StandardScaler was fitted with feature names\n",
      "  \"X does not have valid feature names, but\"\n",
      "C:\\Users\\Karthik\\.conda\\envs\\condamp\\lib\\site-packages\\sklearn\\base.py:451: UserWarning: X does not have valid feature names, but StandardScaler was fitted with feature names\n",
      "  \"X does not have valid feature names, but\"\n"
     ]
    },
    {
     "name": "stdout",
     "output_type": "stream",
     "text": [
      "Hurt [2.45529824e-01 9.51997799e-02 2.32641139e-04 6.35293119e-01\n",
      " 2.37446362e-02]\n",
      "Hurt [3.40768969e-01 9.25203285e-02 1.90876929e-04 5.54236133e-01\n",
      " 1.22836925e-02]\n"
     ]
    },
    {
     "name": "stderr",
     "output_type": "stream",
     "text": [
      "C:\\Users\\Karthik\\.conda\\envs\\condamp\\lib\\site-packages\\sklearn\\base.py:451: UserWarning: X does not have valid feature names, but StandardScaler was fitted with feature names\n",
      "  \"X does not have valid feature names, but\"\n",
      "C:\\Users\\Karthik\\.conda\\envs\\condamp\\lib\\site-packages\\sklearn\\base.py:451: UserWarning: X does not have valid feature names, but StandardScaler was fitted with feature names\n",
      "  \"X does not have valid feature names, but\"\n",
      "C:\\Users\\Karthik\\.conda\\envs\\condamp\\lib\\site-packages\\sklearn\\base.py:451: UserWarning: X does not have valid feature names, but StandardScaler was fitted with feature names\n",
      "  \"X does not have valid feature names, but\"\n",
      "C:\\Users\\Karthik\\.conda\\envs\\condamp\\lib\\site-packages\\sklearn\\base.py:451: UserWarning: X does not have valid feature names, but StandardScaler was fitted with feature names\n",
      "  \"X does not have valid feature names, but\"\n"
     ]
    },
    {
     "name": "stdout",
     "output_type": "stream",
     "text": [
      "Hurt [4.56553725e-01 5.53276368e-02 3.33314236e-04 4.84618842e-01\n",
      " 3.16648184e-03]\n",
      "Hurt [2.07201196e-01 5.47282332e-02 5.19488819e-04 7.31879691e-01\n",
      " 5.67139062e-03]\n"
     ]
    },
    {
     "name": "stderr",
     "output_type": "stream",
     "text": [
      "C:\\Users\\Karthik\\.conda\\envs\\condamp\\lib\\site-packages\\sklearn\\base.py:451: UserWarning: X does not have valid feature names, but StandardScaler was fitted with feature names\n",
      "  \"X does not have valid feature names, but\"\n",
      "C:\\Users\\Karthik\\.conda\\envs\\condamp\\lib\\site-packages\\sklearn\\base.py:451: UserWarning: X does not have valid feature names, but StandardScaler was fitted with feature names\n",
      "  \"X does not have valid feature names, but\"\n",
      "C:\\Users\\Karthik\\.conda\\envs\\condamp\\lib\\site-packages\\sklearn\\base.py:451: UserWarning: X does not have valid feature names, but StandardScaler was fitted with feature names\n",
      "  \"X does not have valid feature names, but\"\n",
      "C:\\Users\\Karthik\\.conda\\envs\\condamp\\lib\\site-packages\\sklearn\\base.py:451: UserWarning: X does not have valid feature names, but StandardScaler was fitted with feature names\n",
      "  \"X does not have valid feature names, but\"\n"
     ]
    },
    {
     "name": "stdout",
     "output_type": "stream",
     "text": [
      "Allergy [4.72207866e-01 3.24522712e-01 7.72578918e-05 1.76771452e-01\n",
      " 2.64207114e-02]\n",
      "Allergy [4.72372573e-01 3.83021213e-01 9.97101171e-05 1.19169847e-01\n",
      " 2.53366566e-02]\n"
     ]
    },
    {
     "name": "stderr",
     "output_type": "stream",
     "text": [
      "C:\\Users\\Karthik\\.conda\\envs\\condamp\\lib\\site-packages\\sklearn\\base.py:451: UserWarning: X does not have valid feature names, but StandardScaler was fitted with feature names\n",
      "  \"X does not have valid feature names, but\"\n",
      "C:\\Users\\Karthik\\.conda\\envs\\condamp\\lib\\site-packages\\sklearn\\base.py:451: UserWarning: X does not have valid feature names, but StandardScaler was fitted with feature names\n",
      "  \"X does not have valid feature names, but\"\n",
      "C:\\Users\\Karthik\\.conda\\envs\\condamp\\lib\\site-packages\\sklearn\\base.py:451: UserWarning: X does not have valid feature names, but StandardScaler was fitted with feature names\n",
      "  \"X does not have valid feature names, but\"\n",
      "C:\\Users\\Karthik\\.conda\\envs\\condamp\\lib\\site-packages\\sklearn\\base.py:451: UserWarning: X does not have valid feature names, but StandardScaler was fitted with feature names\n",
      "  \"X does not have valid feature names, but\"\n"
     ]
    },
    {
     "name": "stdout",
     "output_type": "stream",
     "text": [
      "Ambulance [0.37378609 0.47265413 0.00095776 0.13024454 0.02235748]\n",
      "Ambulance [0.25099764 0.47179422 0.00570972 0.25061062 0.0208878 ]\n"
     ]
    },
    {
     "name": "stderr",
     "output_type": "stream",
     "text": [
      "C:\\Users\\Karthik\\.conda\\envs\\condamp\\lib\\site-packages\\sklearn\\base.py:451: UserWarning: X does not have valid feature names, but StandardScaler was fitted with feature names\n",
      "  \"X does not have valid feature names, but\"\n",
      "C:\\Users\\Karthik\\.conda\\envs\\condamp\\lib\\site-packages\\sklearn\\base.py:451: UserWarning: X does not have valid feature names, but StandardScaler was fitted with feature names\n",
      "  \"X does not have valid feature names, but\"\n",
      "C:\\Users\\Karthik\\.conda\\envs\\condamp\\lib\\site-packages\\sklearn\\base.py:451: UserWarning: X does not have valid feature names, but StandardScaler was fitted with feature names\n",
      "  \"X does not have valid feature names, but\"\n",
      "C:\\Users\\Karthik\\.conda\\envs\\condamp\\lib\\site-packages\\sklearn\\base.py:451: UserWarning: X does not have valid feature names, but StandardScaler was fitted with feature names\n",
      "  \"X does not have valid feature names, but\"\n"
     ]
    },
    {
     "name": "stdout",
     "output_type": "stream",
     "text": [
      "Allergy [0.46199225 0.29763719 0.0141464  0.19400517 0.03221899]\n",
      "Hurt [0.28698271 0.20993644 0.07642679 0.38353153 0.04312253]\n"
     ]
    },
    {
     "name": "stderr",
     "output_type": "stream",
     "text": [
      "C:\\Users\\Karthik\\.conda\\envs\\condamp\\lib\\site-packages\\sklearn\\base.py:451: UserWarning: X does not have valid feature names, but StandardScaler was fitted with feature names\n",
      "  \"X does not have valid feature names, but\"\n",
      "C:\\Users\\Karthik\\.conda\\envs\\condamp\\lib\\site-packages\\sklearn\\base.py:451: UserWarning: X does not have valid feature names, but StandardScaler was fitted with feature names\n",
      "  \"X does not have valid feature names, but\"\n",
      "C:\\Users\\Karthik\\.conda\\envs\\condamp\\lib\\site-packages\\sklearn\\base.py:451: UserWarning: X does not have valid feature names, but StandardScaler was fitted with feature names\n",
      "  \"X does not have valid feature names, but\"\n",
      "C:\\Users\\Karthik\\.conda\\envs\\condamp\\lib\\site-packages\\sklearn\\base.py:451: UserWarning: X does not have valid feature names, but StandardScaler was fitted with feature names\n",
      "  \"X does not have valid feature names, but\"\n"
     ]
    },
    {
     "name": "stdout",
     "output_type": "stream",
     "text": [
      "Hurt [0.37270051 0.16077011 0.02039026 0.39658246 0.04955666]\n",
      "Allergy [0.42457233 0.18342734 0.03954244 0.30061234 0.05184554]\n"
     ]
    },
    {
     "name": "stderr",
     "output_type": "stream",
     "text": [
      "C:\\Users\\Karthik\\.conda\\envs\\condamp\\lib\\site-packages\\sklearn\\base.py:451: UserWarning: X does not have valid feature names, but StandardScaler was fitted with feature names\n",
      "  \"X does not have valid feature names, but\"\n",
      "C:\\Users\\Karthik\\.conda\\envs\\condamp\\lib\\site-packages\\sklearn\\base.py:451: UserWarning: X does not have valid feature names, but StandardScaler was fitted with feature names\n",
      "  \"X does not have valid feature names, but\"\n",
      "C:\\Users\\Karthik\\.conda\\envs\\condamp\\lib\\site-packages\\sklearn\\base.py:451: UserWarning: X does not have valid feature names, but StandardScaler was fitted with feature names\n",
      "  \"X does not have valid feature names, but\"\n",
      "C:\\Users\\Karthik\\.conda\\envs\\condamp\\lib\\site-packages\\sklearn\\base.py:451: UserWarning: X does not have valid feature names, but StandardScaler was fitted with feature names\n",
      "  \"X does not have valid feature names, but\"\n"
     ]
    },
    {
     "name": "stdout",
     "output_type": "stream",
     "text": [
      "Allergy [0.58500298 0.15624632 0.03735292 0.18350467 0.0378931 ]\n",
      "Allergy [0.508599   0.20509623 0.02396101 0.22870365 0.03364011]\n"
     ]
    },
    {
     "name": "stderr",
     "output_type": "stream",
     "text": [
      "C:\\Users\\Karthik\\.conda\\envs\\condamp\\lib\\site-packages\\sklearn\\base.py:451: UserWarning: X does not have valid feature names, but StandardScaler was fitted with feature names\n",
      "  \"X does not have valid feature names, but\"\n",
      "C:\\Users\\Karthik\\.conda\\envs\\condamp\\lib\\site-packages\\sklearn\\base.py:451: UserWarning: X does not have valid feature names, but StandardScaler was fitted with feature names\n",
      "  \"X does not have valid feature names, but\"\n",
      "C:\\Users\\Karthik\\.conda\\envs\\condamp\\lib\\site-packages\\sklearn\\base.py:451: UserWarning: X does not have valid feature names, but StandardScaler was fitted with feature names\n",
      "  \"X does not have valid feature names, but\"\n",
      "C:\\Users\\Karthik\\.conda\\envs\\condamp\\lib\\site-packages\\sklearn\\base.py:451: UserWarning: X does not have valid feature names, but StandardScaler was fitted with feature names\n",
      "  \"X does not have valid feature names, but\"\n"
     ]
    },
    {
     "name": "stdout",
     "output_type": "stream",
     "text": [
      "Allergy [0.76546645 0.13216869 0.00328584 0.0743171  0.02476191]\n",
      "Allergy [0.78483628 0.12525151 0.00441305 0.06576259 0.01973657]\n"
     ]
    },
    {
     "name": "stderr",
     "output_type": "stream",
     "text": [
      "C:\\Users\\Karthik\\.conda\\envs\\condamp\\lib\\site-packages\\sklearn\\base.py:451: UserWarning: X does not have valid feature names, but StandardScaler was fitted with feature names\n",
      "  \"X does not have valid feature names, but\"\n",
      "C:\\Users\\Karthik\\.conda\\envs\\condamp\\lib\\site-packages\\sklearn\\base.py:451: UserWarning: X does not have valid feature names, but StandardScaler was fitted with feature names\n",
      "  \"X does not have valid feature names, but\"\n"
     ]
    },
    {
     "name": "stdout",
     "output_type": "stream",
     "text": [
      "Allergy [0.82188996 0.09025776 0.00163838 0.06798465 0.01822925]\n"
     ]
    },
    {
     "name": "stderr",
     "output_type": "stream",
     "text": [
      "C:\\Users\\Karthik\\.conda\\envs\\condamp\\lib\\site-packages\\sklearn\\base.py:451: UserWarning: X does not have valid feature names, but StandardScaler was fitted with feature names\n",
      "  \"X does not have valid feature names, but\"\n",
      "C:\\Users\\Karthik\\.conda\\envs\\condamp\\lib\\site-packages\\sklearn\\base.py:451: UserWarning: X does not have valid feature names, but StandardScaler was fitted with feature names\n",
      "  \"X does not have valid feature names, but\"\n",
      "C:\\Users\\Karthik\\.conda\\envs\\condamp\\lib\\site-packages\\sklearn\\base.py:451: UserWarning: X does not have valid feature names, but StandardScaler was fitted with feature names\n",
      "  \"X does not have valid feature names, but\"\n",
      "C:\\Users\\Karthik\\.conda\\envs\\condamp\\lib\\site-packages\\sklearn\\base.py:451: UserWarning: X does not have valid feature names, but StandardScaler was fitted with feature names\n",
      "  \"X does not have valid feature names, but\"\n"
     ]
    },
    {
     "name": "stdout",
     "output_type": "stream",
     "text": [
      "Allergy [5.76058553e-01 3.32289156e-01 1.62893431e-05 5.96570582e-02\n",
      " 3.19789433e-02]\n",
      "Ambulance [0.19596118 0.54236992 0.000546   0.24294575 0.01817715]\n"
     ]
    },
    {
     "name": "stderr",
     "output_type": "stream",
     "text": [
      "C:\\Users\\Karthik\\.conda\\envs\\condamp\\lib\\site-packages\\sklearn\\base.py:451: UserWarning: X does not have valid feature names, but StandardScaler was fitted with feature names\n",
      "  \"X does not have valid feature names, but\"\n",
      "C:\\Users\\Karthik\\.conda\\envs\\condamp\\lib\\site-packages\\sklearn\\base.py:451: UserWarning: X does not have valid feature names, but StandardScaler was fitted with feature names\n",
      "  \"X does not have valid feature names, but\"\n"
     ]
    },
    {
     "name": "stdout",
     "output_type": "stream",
     "text": [
      "Ambulance [0.23801932 0.58966863 0.00176686 0.14198552 0.02855967]\n"
     ]
    },
    {
     "name": "stderr",
     "output_type": "stream",
     "text": [
      "C:\\Users\\Karthik\\.conda\\envs\\condamp\\lib\\site-packages\\sklearn\\base.py:451: UserWarning: X does not have valid feature names, but StandardScaler was fitted with feature names\n",
      "  \"X does not have valid feature names, but\"\n",
      "C:\\Users\\Karthik\\.conda\\envs\\condamp\\lib\\site-packages\\sklearn\\base.py:451: UserWarning: X does not have valid feature names, but StandardScaler was fitted with feature names\n",
      "  \"X does not have valid feature names, but\"\n",
      "C:\\Users\\Karthik\\.conda\\envs\\condamp\\lib\\site-packages\\sklearn\\base.py:451: UserWarning: X does not have valid feature names, but StandardScaler was fitted with feature names\n",
      "  \"X does not have valid feature names, but\"\n",
      "C:\\Users\\Karthik\\.conda\\envs\\condamp\\lib\\site-packages\\sklearn\\base.py:451: UserWarning: X does not have valid feature names, but StandardScaler was fitted with feature names\n",
      "  \"X does not have valid feature names, but\"\n"
     ]
    },
    {
     "name": "stdout",
     "output_type": "stream",
     "text": [
      "Allergy [0.47018445 0.37920635 0.01413743 0.09764275 0.03882904]\n",
      "Allergy [0.4913018  0.31291326 0.02228215 0.12537033 0.04813247]\n"
     ]
    },
    {
     "name": "stderr",
     "output_type": "stream",
     "text": [
      "C:\\Users\\Karthik\\.conda\\envs\\condamp\\lib\\site-packages\\sklearn\\base.py:451: UserWarning: X does not have valid feature names, but StandardScaler was fitted with feature names\n",
      "  \"X does not have valid feature names, but\"\n",
      "C:\\Users\\Karthik\\.conda\\envs\\condamp\\lib\\site-packages\\sklearn\\base.py:451: UserWarning: X does not have valid feature names, but StandardScaler was fitted with feature names\n",
      "  \"X does not have valid feature names, but\"\n",
      "C:\\Users\\Karthik\\.conda\\envs\\condamp\\lib\\site-packages\\sklearn\\base.py:451: UserWarning: X does not have valid feature names, but StandardScaler was fitted with feature names\n",
      "  \"X does not have valid feature names, but\"\n",
      "C:\\Users\\Karthik\\.conda\\envs\\condamp\\lib\\site-packages\\sklearn\\base.py:451: UserWarning: X does not have valid feature names, but StandardScaler was fitted with feature names\n",
      "  \"X does not have valid feature names, but\"\n"
     ]
    },
    {
     "name": "stdout",
     "output_type": "stream",
     "text": [
      "Allergy [0.75717117 0.12665431 0.01650923 0.08809675 0.01156853]\n",
      "Allergy [0.72623857 0.08335028 0.02806875 0.14001825 0.02232414]\n"
     ]
    },
    {
     "name": "stderr",
     "output_type": "stream",
     "text": [
      "C:\\Users\\Karthik\\.conda\\envs\\condamp\\lib\\site-packages\\sklearn\\base.py:451: UserWarning: X does not have valid feature names, but StandardScaler was fitted with feature names\n",
      "  \"X does not have valid feature names, but\"\n",
      "C:\\Users\\Karthik\\.conda\\envs\\condamp\\lib\\site-packages\\sklearn\\base.py:451: UserWarning: X does not have valid feature names, but StandardScaler was fitted with feature names\n",
      "  \"X does not have valid feature names, but\"\n",
      "C:\\Users\\Karthik\\.conda\\envs\\condamp\\lib\\site-packages\\sklearn\\base.py:451: UserWarning: X does not have valid feature names, but StandardScaler was fitted with feature names\n",
      "  \"X does not have valid feature names, but\"\n",
      "C:\\Users\\Karthik\\.conda\\envs\\condamp\\lib\\site-packages\\sklearn\\base.py:451: UserWarning: X does not have valid feature names, but StandardScaler was fitted with feature names\n",
      "  \"X does not have valid feature names, but\"\n"
     ]
    },
    {
     "name": "stdout",
     "output_type": "stream",
     "text": [
      "Allergy [0.702307   0.094284   0.00520278 0.17891974 0.01928648]\n",
      "Hurt [2.03519936e-01 6.63218518e-02 5.91007064e-04 6.93212726e-01\n",
      " 3.63544794e-02]\n"
     ]
    },
    {
     "name": "stderr",
     "output_type": "stream",
     "text": [
      "C:\\Users\\Karthik\\.conda\\envs\\condamp\\lib\\site-packages\\sklearn\\base.py:451: UserWarning: X does not have valid feature names, but StandardScaler was fitted with feature names\n",
      "  \"X does not have valid feature names, but\"\n",
      "C:\\Users\\Karthik\\.conda\\envs\\condamp\\lib\\site-packages\\sklearn\\base.py:451: UserWarning: X does not have valid feature names, but StandardScaler was fitted with feature names\n",
      "  \"X does not have valid feature names, but\"\n"
     ]
    },
    {
     "name": "stdout",
     "output_type": "stream",
     "text": [
      "Allergy [4.65402345e-01 8.66975605e-02 2.36201485e-04 3.96179897e-01\n",
      " 5.14839968e-02]\n"
     ]
    },
    {
     "name": "stderr",
     "output_type": "stream",
     "text": [
      "C:\\Users\\Karthik\\.conda\\envs\\condamp\\lib\\site-packages\\sklearn\\base.py:451: UserWarning: X does not have valid feature names, but StandardScaler was fitted with feature names\n",
      "  \"X does not have valid feature names, but\"\n",
      "C:\\Users\\Karthik\\.conda\\envs\\condamp\\lib\\site-packages\\sklearn\\base.py:451: UserWarning: X does not have valid feature names, but StandardScaler was fitted with feature names\n",
      "  \"X does not have valid feature names, but\"\n",
      "C:\\Users\\Karthik\\.conda\\envs\\condamp\\lib\\site-packages\\sklearn\\base.py:451: UserWarning: X does not have valid feature names, but StandardScaler was fitted with feature names\n",
      "  \"X does not have valid feature names, but\"\n",
      "C:\\Users\\Karthik\\.conda\\envs\\condamp\\lib\\site-packages\\sklearn\\base.py:451: UserWarning: X does not have valid feature names, but StandardScaler was fitted with feature names\n",
      "  \"X does not have valid feature names, but\"\n"
     ]
    },
    {
     "name": "stdout",
     "output_type": "stream",
     "text": [
      "Ambulance [8.84263988e-02 5.28339348e-01 5.48553296e-05 3.79031645e-01\n",
      " 4.14775286e-03]\n",
      "Ambulance [1.05456935e-01 5.44722582e-01 1.34143818e-04 3.44198845e-01\n",
      " 5.48749449e-03]\n"
     ]
    },
    {
     "name": "stderr",
     "output_type": "stream",
     "text": [
      "C:\\Users\\Karthik\\.conda\\envs\\condamp\\lib\\site-packages\\sklearn\\base.py:451: UserWarning: X does not have valid feature names, but StandardScaler was fitted with feature names\n",
      "  \"X does not have valid feature names, but\"\n",
      "C:\\Users\\Karthik\\.conda\\envs\\condamp\\lib\\site-packages\\sklearn\\base.py:451: UserWarning: X does not have valid feature names, but StandardScaler was fitted with feature names\n",
      "  \"X does not have valid feature names, but\"\n"
     ]
    },
    {
     "name": "stdout",
     "output_type": "stream",
     "text": [
      "Allergy [3.98643775e-01 2.93986890e-01 1.02975588e-04 2.79230437e-01\n",
      " 2.80359217e-02]\n"
     ]
    },
    {
     "name": "stderr",
     "output_type": "stream",
     "text": [
      "C:\\Users\\Karthik\\.conda\\envs\\condamp\\lib\\site-packages\\sklearn\\base.py:451: UserWarning: X does not have valid feature names, but StandardScaler was fitted with feature names\n",
      "  \"X does not have valid feature names, but\"\n",
      "C:\\Users\\Karthik\\.conda\\envs\\condamp\\lib\\site-packages\\sklearn\\base.py:451: UserWarning: X does not have valid feature names, but StandardScaler was fitted with feature names\n",
      "  \"X does not have valid feature names, but\"\n",
      "C:\\Users\\Karthik\\.conda\\envs\\condamp\\lib\\site-packages\\sklearn\\base.py:451: UserWarning: X does not have valid feature names, but StandardScaler was fitted with feature names\n",
      "  \"X does not have valid feature names, but\"\n",
      "C:\\Users\\Karthik\\.conda\\envs\\condamp\\lib\\site-packages\\sklearn\\base.py:451: UserWarning: X does not have valid feature names, but StandardScaler was fitted with feature names\n",
      "  \"X does not have valid feature names, but\"\n"
     ]
    },
    {
     "name": "stdout",
     "output_type": "stream",
     "text": [
      "Allergy [9.77400818e-01 1.57223830e-02 5.53432097e-09 6.16670375e-03\n",
      " 7.10089774e-04]\n",
      "Ambulance [2.88514281e-01 4.64403354e-01 3.60098851e-05 2.45144270e-01\n",
      " 1.90208541e-03]\n"
     ]
    },
    {
     "name": "stderr",
     "output_type": "stream",
     "text": [
      "C:\\Users\\Karthik\\.conda\\envs\\condamp\\lib\\site-packages\\sklearn\\base.py:451: UserWarning: X does not have valid feature names, but StandardScaler was fitted with feature names\n",
      "  \"X does not have valid feature names, but\"\n",
      "C:\\Users\\Karthik\\.conda\\envs\\condamp\\lib\\site-packages\\sklearn\\base.py:451: UserWarning: X does not have valid feature names, but StandardScaler was fitted with feature names\n",
      "  \"X does not have valid feature names, but\"\n"
     ]
    },
    {
     "name": "stdout",
     "output_type": "stream",
     "text": [
      "Ambulance [2.49744574e-01 5.29694261e-01 8.45361548e-05 2.17522220e-01\n",
      " 2.95440904e-03]\n"
     ]
    },
    {
     "name": "stderr",
     "output_type": "stream",
     "text": [
      "C:\\Users\\Karthik\\.conda\\envs\\condamp\\lib\\site-packages\\sklearn\\base.py:451: UserWarning: X does not have valid feature names, but StandardScaler was fitted with feature names\n",
      "  \"X does not have valid feature names, but\"\n",
      "C:\\Users\\Karthik\\.conda\\envs\\condamp\\lib\\site-packages\\sklearn\\base.py:451: UserWarning: X does not have valid feature names, but StandardScaler was fitted with feature names\n",
      "  \"X does not have valid feature names, but\"\n",
      "C:\\Users\\Karthik\\.conda\\envs\\condamp\\lib\\site-packages\\sklearn\\base.py:451: UserWarning: X does not have valid feature names, but StandardScaler was fitted with feature names\n",
      "  \"X does not have valid feature names, but\"\n",
      "C:\\Users\\Karthik\\.conda\\envs\\condamp\\lib\\site-packages\\sklearn\\base.py:451: UserWarning: X does not have valid feature names, but StandardScaler was fitted with feature names\n",
      "  \"X does not have valid feature names, but\"\n"
     ]
    },
    {
     "name": "stdout",
     "output_type": "stream",
     "text": [
      "Allergy [0.90934252 0.05667798 0.00514859 0.02441877 0.00441213]\n",
      "Hurt [0.0901043  0.38195173 0.00955627 0.44825221 0.07013549]\n"
     ]
    },
    {
     "name": "stderr",
     "output_type": "stream",
     "text": [
      "C:\\Users\\Karthik\\.conda\\envs\\condamp\\lib\\site-packages\\sklearn\\base.py:451: UserWarning: X does not have valid feature names, but StandardScaler was fitted with feature names\n",
      "  \"X does not have valid feature names, but\"\n",
      "C:\\Users\\Karthik\\.conda\\envs\\condamp\\lib\\site-packages\\sklearn\\base.py:451: UserWarning: X does not have valid feature names, but StandardScaler was fitted with feature names\n",
      "  \"X does not have valid feature names, but\"\n"
     ]
    },
    {
     "name": "stdout",
     "output_type": "stream",
     "text": [
      "Allergy [0.94314095 0.01797247 0.0020135  0.03517348 0.0016996 ]\n"
     ]
    },
    {
     "name": "stderr",
     "output_type": "stream",
     "text": [
      "C:\\Users\\Karthik\\.conda\\envs\\condamp\\lib\\site-packages\\sklearn\\base.py:451: UserWarning: X does not have valid feature names, but StandardScaler was fitted with feature names\n",
      "  \"X does not have valid feature names, but\"\n",
      "C:\\Users\\Karthik\\.conda\\envs\\condamp\\lib\\site-packages\\sklearn\\base.py:451: UserWarning: X does not have valid feature names, but StandardScaler was fitted with feature names\n",
      "  \"X does not have valid feature names, but\"\n",
      "C:\\Users\\Karthik\\.conda\\envs\\condamp\\lib\\site-packages\\sklearn\\base.py:451: UserWarning: X does not have valid feature names, but StandardScaler was fitted with feature names\n",
      "  \"X does not have valid feature names, but\"\n",
      "C:\\Users\\Karthik\\.conda\\envs\\condamp\\lib\\site-packages\\sklearn\\base.py:451: UserWarning: X does not have valid feature names, but StandardScaler was fitted with feature names\n",
      "  \"X does not have valid feature names, but\"\n"
     ]
    },
    {
     "name": "stdout",
     "output_type": "stream",
     "text": [
      "Allergy [9.92315020e-01 1.96956152e-03 2.11589053e-04 5.43043016e-03\n",
      " 7.33987987e-05]\n",
      "Allergy [9.76602377e-01 4.90231439e-03 1.18573728e-03 1.68330831e-02\n",
      " 4.76487878e-04]\n"
     ]
    },
    {
     "name": "stderr",
     "output_type": "stream",
     "text": [
      "C:\\Users\\Karthik\\.conda\\envs\\condamp\\lib\\site-packages\\sklearn\\base.py:451: UserWarning: X does not have valid feature names, but StandardScaler was fitted with feature names\n",
      "  \"X does not have valid feature names, but\"\n",
      "C:\\Users\\Karthik\\.conda\\envs\\condamp\\lib\\site-packages\\sklearn\\base.py:451: UserWarning: X does not have valid feature names, but StandardScaler was fitted with feature names\n",
      "  \"X does not have valid feature names, but\"\n",
      "C:\\Users\\Karthik\\.conda\\envs\\condamp\\lib\\site-packages\\sklearn\\base.py:451: UserWarning: X does not have valid feature names, but StandardScaler was fitted with feature names\n",
      "  \"X does not have valid feature names, but\"\n",
      "C:\\Users\\Karthik\\.conda\\envs\\condamp\\lib\\site-packages\\sklearn\\base.py:451: UserWarning: X does not have valid feature names, but StandardScaler was fitted with feature names\n",
      "  \"X does not have valid feature names, but\"\n"
     ]
    },
    {
     "name": "stdout",
     "output_type": "stream",
     "text": [
      "Allergy [9.17284457e-01 6.39544244e-02 2.66812219e-06 1.70412237e-02\n",
      " 1.71722717e-03]\n",
      "Allergy [8.31765604e-01 6.98569386e-02 1.79507726e-06 9.81818344e-02\n",
      " 1.93827843e-04]\n"
     ]
    },
    {
     "name": "stderr",
     "output_type": "stream",
     "text": [
      "C:\\Users\\Karthik\\.conda\\envs\\condamp\\lib\\site-packages\\sklearn\\base.py:451: UserWarning: X does not have valid feature names, but StandardScaler was fitted with feature names\n",
      "  \"X does not have valid feature names, but\"\n",
      "C:\\Users\\Karthik\\.conda\\envs\\condamp\\lib\\site-packages\\sklearn\\base.py:451: UserWarning: X does not have valid feature names, but StandardScaler was fitted with feature names\n",
      "  \"X does not have valid feature names, but\"\n",
      "C:\\Users\\Karthik\\.conda\\envs\\condamp\\lib\\site-packages\\sklearn\\base.py:451: UserWarning: X does not have valid feature names, but StandardScaler was fitted with feature names\n",
      "  \"X does not have valid feature names, but\"\n",
      "C:\\Users\\Karthik\\.conda\\envs\\condamp\\lib\\site-packages\\sklearn\\base.py:451: UserWarning: X does not have valid feature names, but StandardScaler was fitted with feature names\n",
      "  \"X does not have valid feature names, but\"\n"
     ]
    },
    {
     "name": "stdout",
     "output_type": "stream",
     "text": [
      "Allergy [8.30596941e-01 9.70325420e-02 1.19140632e-04 7.21613927e-02\n",
      " 8.99832945e-05]\n",
      "Allergy [9.12857781e-01 2.20031326e-02 5.77393364e-02 7.33106580e-03\n",
      " 6.86837879e-05]\n"
     ]
    },
    {
     "name": "stderr",
     "output_type": "stream",
     "text": [
      "C:\\Users\\Karthik\\.conda\\envs\\condamp\\lib\\site-packages\\sklearn\\base.py:451: UserWarning: X does not have valid feature names, but StandardScaler was fitted with feature names\n",
      "  \"X does not have valid feature names, but\"\n",
      "C:\\Users\\Karthik\\.conda\\envs\\condamp\\lib\\site-packages\\sklearn\\base.py:451: UserWarning: X does not have valid feature names, but StandardScaler was fitted with feature names\n",
      "  \"X does not have valid feature names, but\"\n"
     ]
    },
    {
     "name": "stdout",
     "output_type": "stream",
     "text": [
      "Allergy [9.79940677e-01 3.46088456e-03 1.58290558e-02 7.63245619e-04\n",
      " 6.13726102e-06]\n"
     ]
    },
    {
     "name": "stderr",
     "output_type": "stream",
     "text": [
      "C:\\Users\\Karthik\\.conda\\envs\\condamp\\lib\\site-packages\\sklearn\\base.py:451: UserWarning: X does not have valid feature names, but StandardScaler was fitted with feature names\n",
      "  \"X does not have valid feature names, but\"\n",
      "C:\\Users\\Karthik\\.conda\\envs\\condamp\\lib\\site-packages\\sklearn\\base.py:451: UserWarning: X does not have valid feature names, but StandardScaler was fitted with feature names\n",
      "  \"X does not have valid feature names, but\"\n",
      "C:\\Users\\Karthik\\.conda\\envs\\condamp\\lib\\site-packages\\sklearn\\base.py:451: UserWarning: X does not have valid feature names, but StandardScaler was fitted with feature names\n",
      "  \"X does not have valid feature names, but\"\n",
      "C:\\Users\\Karthik\\.conda\\envs\\condamp\\lib\\site-packages\\sklearn\\base.py:451: UserWarning: X does not have valid feature names, but StandardScaler was fitted with feature names\n",
      "  \"X does not have valid feature names, but\"\n"
     ]
    },
    {
     "name": "stdout",
     "output_type": "stream",
     "text": [
      "Allergy [0.72647429 0.1842446  0.00576233 0.0806409  0.00287788]\n",
      "Allergy [0.72713728 0.18202455 0.00263503 0.08673428 0.00146887]\n"
     ]
    },
    {
     "name": "stderr",
     "output_type": "stream",
     "text": [
      "C:\\Users\\Karthik\\.conda\\envs\\condamp\\lib\\site-packages\\sklearn\\base.py:451: UserWarning: X does not have valid feature names, but StandardScaler was fitted with feature names\n",
      "  \"X does not have valid feature names, but\"\n",
      "C:\\Users\\Karthik\\.conda\\envs\\condamp\\lib\\site-packages\\sklearn\\base.py:451: UserWarning: X does not have valid feature names, but StandardScaler was fitted with feature names\n",
      "  \"X does not have valid feature names, but\"\n"
     ]
    },
    {
     "name": "stdout",
     "output_type": "stream",
     "text": [
      "Ambulance [0.22386614 0.37840183 0.01630035 0.37326802 0.00816366]\n"
     ]
    },
    {
     "name": "stderr",
     "output_type": "stream",
     "text": [
      "C:\\Users\\Karthik\\.conda\\envs\\condamp\\lib\\site-packages\\sklearn\\base.py:451: UserWarning: X does not have valid feature names, but StandardScaler was fitted with feature names\n",
      "  \"X does not have valid feature names, but\"\n",
      "C:\\Users\\Karthik\\.conda\\envs\\condamp\\lib\\site-packages\\sklearn\\base.py:451: UserWarning: X does not have valid feature names, but StandardScaler was fitted with feature names\n",
      "  \"X does not have valid feature names, but\"\n"
     ]
    },
    {
     "name": "stdout",
     "output_type": "stream",
     "text": [
      "Ambulance [0.15874752 0.51893    0.09431203 0.18869685 0.0393136 ]\n"
     ]
    },
    {
     "name": "stderr",
     "output_type": "stream",
     "text": [
      "C:\\Users\\Karthik\\.conda\\envs\\condamp\\lib\\site-packages\\sklearn\\base.py:451: UserWarning: X does not have valid feature names, but StandardScaler was fitted with feature names\n",
      "  \"X does not have valid feature names, but\"\n",
      "C:\\Users\\Karthik\\.conda\\envs\\condamp\\lib\\site-packages\\sklearn\\base.py:451: UserWarning: X does not have valid feature names, but StandardScaler was fitted with feature names\n",
      "  \"X does not have valid feature names, but\"\n",
      "C:\\Users\\Karthik\\.conda\\envs\\condamp\\lib\\site-packages\\sklearn\\base.py:451: UserWarning: X does not have valid feature names, but StandardScaler was fitted with feature names\n",
      "  \"X does not have valid feature names, but\"\n",
      "C:\\Users\\Karthik\\.conda\\envs\\condamp\\lib\\site-packages\\sklearn\\base.py:451: UserWarning: X does not have valid feature names, but StandardScaler was fitted with feature names\n",
      "  \"X does not have valid feature names, but\"\n"
     ]
    },
    {
     "name": "stdout",
     "output_type": "stream",
     "text": [
      "Hurt [0.12710202 0.27721969 0.0090683  0.54714596 0.03946403]\n",
      "Hurt [0.34760084 0.04549051 0.00827206 0.57923022 0.01940637]\n"
     ]
    },
    {
     "name": "stderr",
     "output_type": "stream",
     "text": [
      "C:\\Users\\Karthik\\.conda\\envs\\condamp\\lib\\site-packages\\sklearn\\base.py:451: UserWarning: X does not have valid feature names, but StandardScaler was fitted with feature names\n",
      "  \"X does not have valid feature names, but\"\n",
      "C:\\Users\\Karthik\\.conda\\envs\\condamp\\lib\\site-packages\\sklearn\\base.py:451: UserWarning: X does not have valid feature names, but StandardScaler was fitted with feature names\n",
      "  \"X does not have valid feature names, but\"\n",
      "C:\\Users\\Karthik\\.conda\\envs\\condamp\\lib\\site-packages\\sklearn\\base.py:451: UserWarning: X does not have valid feature names, but StandardScaler was fitted with feature names\n",
      "  \"X does not have valid feature names, but\"\n",
      "C:\\Users\\Karthik\\.conda\\envs\\condamp\\lib\\site-packages\\sklearn\\base.py:451: UserWarning: X does not have valid feature names, but StandardScaler was fitted with feature names\n",
      "  \"X does not have valid feature names, but\"\n"
     ]
    },
    {
     "name": "stdout",
     "output_type": "stream",
     "text": [
      "Allergy [7.53827813e-01 3.84496962e-02 7.05841216e-04 2.05769954e-01\n",
      " 1.24669622e-03]\n",
      "Allergy [0.70403872 0.05310122 0.00092035 0.24110166 0.00083805]\n"
     ]
    },
    {
     "name": "stderr",
     "output_type": "stream",
     "text": [
      "C:\\Users\\Karthik\\.conda\\envs\\condamp\\lib\\site-packages\\sklearn\\base.py:451: UserWarning: X does not have valid feature names, but StandardScaler was fitted with feature names\n",
      "  \"X does not have valid feature names, but\"\n",
      "C:\\Users\\Karthik\\.conda\\envs\\condamp\\lib\\site-packages\\sklearn\\base.py:451: UserWarning: X does not have valid feature names, but StandardScaler was fitted with feature names\n",
      "  \"X does not have valid feature names, but\"\n",
      "C:\\Users\\Karthik\\.conda\\envs\\condamp\\lib\\site-packages\\sklearn\\base.py:451: UserWarning: X does not have valid feature names, but StandardScaler was fitted with feature names\n",
      "  \"X does not have valid feature names, but\"\n",
      "C:\\Users\\Karthik\\.conda\\envs\\condamp\\lib\\site-packages\\sklearn\\base.py:451: UserWarning: X does not have valid feature names, but StandardScaler was fitted with feature names\n",
      "  \"X does not have valid feature names, but\"\n"
     ]
    },
    {
     "name": "stdout",
     "output_type": "stream",
     "text": [
      "Allergy [9.40323073e-01 1.17535271e-02 9.97358235e-05 4.77549197e-02\n",
      " 6.87447675e-05]\n",
      "Allergy [8.62493887e-01 1.51119862e-02 1.37732928e-03 1.20873438e-01\n",
      " 1.43359640e-04]\n"
     ]
    },
    {
     "name": "stderr",
     "output_type": "stream",
     "text": [
      "C:\\Users\\Karthik\\.conda\\envs\\condamp\\lib\\site-packages\\sklearn\\base.py:451: UserWarning: X does not have valid feature names, but StandardScaler was fitted with feature names\n",
      "  \"X does not have valid feature names, but\"\n",
      "C:\\Users\\Karthik\\.conda\\envs\\condamp\\lib\\site-packages\\sklearn\\base.py:451: UserWarning: X does not have valid feature names, but StandardScaler was fitted with feature names\n",
      "  \"X does not have valid feature names, but\"\n"
     ]
    },
    {
     "name": "stdout",
     "output_type": "stream",
     "text": [
      "Allergy [7.64002445e-01 1.94075497e-02 4.43849647e-03 2.11980058e-01\n",
      " 1.71450139e-04]\n"
     ]
    },
    {
     "name": "stderr",
     "output_type": "stream",
     "text": [
      "C:\\Users\\Karthik\\.conda\\envs\\condamp\\lib\\site-packages\\sklearn\\base.py:451: UserWarning: X does not have valid feature names, but StandardScaler was fitted with feature names\n",
      "  \"X does not have valid feature names, but\"\n",
      "C:\\Users\\Karthik\\.conda\\envs\\condamp\\lib\\site-packages\\sklearn\\base.py:451: UserWarning: X does not have valid feature names, but StandardScaler was fitted with feature names\n",
      "  \"X does not have valid feature names, but\"\n",
      "C:\\Users\\Karthik\\.conda\\envs\\condamp\\lib\\site-packages\\sklearn\\base.py:451: UserWarning: X does not have valid feature names, but StandardScaler was fitted with feature names\n",
      "  \"X does not have valid feature names, but\"\n",
      "C:\\Users\\Karthik\\.conda\\envs\\condamp\\lib\\site-packages\\sklearn\\base.py:451: UserWarning: X does not have valid feature names, but StandardScaler was fitted with feature names\n",
      "  \"X does not have valid feature names, but\"\n"
     ]
    },
    {
     "name": "stdout",
     "output_type": "stream",
     "text": [
      "Ambulance [0.15788353 0.72620388 0.06546742 0.02301276 0.02743241]\n",
      "Ambulance [0.14537078 0.53526467 0.28377491 0.01056294 0.0250267 ]\n"
     ]
    },
    {
     "name": "stderr",
     "output_type": "stream",
     "text": [
      "C:\\Users\\Karthik\\.conda\\envs\\condamp\\lib\\site-packages\\sklearn\\base.py:451: UserWarning: X does not have valid feature names, but StandardScaler was fitted with feature names\n",
      "  \"X does not have valid feature names, but\"\n",
      "C:\\Users\\Karthik\\.conda\\envs\\condamp\\lib\\site-packages\\sklearn\\base.py:451: UserWarning: X does not have valid feature names, but StandardScaler was fitted with feature names\n",
      "  \"X does not have valid feature names, but\"\n",
      "C:\\Users\\Karthik\\.conda\\envs\\condamp\\lib\\site-packages\\sklearn\\base.py:451: UserWarning: X does not have valid feature names, but StandardScaler was fitted with feature names\n",
      "  \"X does not have valid feature names, but\"\n",
      "C:\\Users\\Karthik\\.conda\\envs\\condamp\\lib\\site-packages\\sklearn\\base.py:451: UserWarning: X does not have valid feature names, but StandardScaler was fitted with feature names\n",
      "  \"X does not have valid feature names, but\"\n"
     ]
    },
    {
     "name": "stdout",
     "output_type": "stream",
     "text": [
      "Ambulance [0.15651046 0.54101608 0.26124703 0.0107991  0.03042733]\n",
      "Ambulance [0.16065683 0.57728012 0.21801818 0.01168842 0.03235645]\n"
     ]
    },
    {
     "name": "stderr",
     "output_type": "stream",
     "text": [
      "C:\\Users\\Karthik\\.conda\\envs\\condamp\\lib\\site-packages\\sklearn\\base.py:451: UserWarning: X does not have valid feature names, but StandardScaler was fitted with feature names\n",
      "  \"X does not have valid feature names, but\"\n",
      "C:\\Users\\Karthik\\.conda\\envs\\condamp\\lib\\site-packages\\sklearn\\base.py:451: UserWarning: X does not have valid feature names, but StandardScaler was fitted with feature names\n",
      "  \"X does not have valid feature names, but\"\n",
      "C:\\Users\\Karthik\\.conda\\envs\\condamp\\lib\\site-packages\\sklearn\\base.py:451: UserWarning: X does not have valid feature names, but StandardScaler was fitted with feature names\n",
      "  \"X does not have valid feature names, but\"\n",
      "C:\\Users\\Karthik\\.conda\\envs\\condamp\\lib\\site-packages\\sklearn\\base.py:451: UserWarning: X does not have valid feature names, but StandardScaler was fitted with feature names\n",
      "  \"X does not have valid feature names, but\"\n"
     ]
    },
    {
     "name": "stdout",
     "output_type": "stream",
     "text": [
      "Ambulance [0.19616887 0.56227166 0.19718666 0.01358874 0.03078407]\n",
      "Ambulance [0.29217852 0.55369896 0.10607494 0.01301278 0.0350348 ]\n"
     ]
    },
    {
     "name": "stderr",
     "output_type": "stream",
     "text": [
      "C:\\Users\\Karthik\\.conda\\envs\\condamp\\lib\\site-packages\\sklearn\\base.py:451: UserWarning: X does not have valid feature names, but StandardScaler was fitted with feature names\n",
      "  \"X does not have valid feature names, but\"\n",
      "C:\\Users\\Karthik\\.conda\\envs\\condamp\\lib\\site-packages\\sklearn\\base.py:451: UserWarning: X does not have valid feature names, but StandardScaler was fitted with feature names\n",
      "  \"X does not have valid feature names, but\"\n",
      "C:\\Users\\Karthik\\.conda\\envs\\condamp\\lib\\site-packages\\sklearn\\base.py:451: UserWarning: X does not have valid feature names, but StandardScaler was fitted with feature names\n",
      "  \"X does not have valid feature names, but\"\n",
      "C:\\Users\\Karthik\\.conda\\envs\\condamp\\lib\\site-packages\\sklearn\\base.py:451: UserWarning: X does not have valid feature names, but StandardScaler was fitted with feature names\n",
      "  \"X does not have valid feature names, but\"\n"
     ]
    },
    {
     "name": "stdout",
     "output_type": "stream",
     "text": [
      "Ambulance [0.28295714 0.53299599 0.12239817 0.01465913 0.04698958]\n",
      "Ambulance [0.35297547 0.49223486 0.08985185 0.01889249 0.04604532]\n"
     ]
    },
    {
     "name": "stderr",
     "output_type": "stream",
     "text": [
      "C:\\Users\\Karthik\\.conda\\envs\\condamp\\lib\\site-packages\\sklearn\\base.py:451: UserWarning: X does not have valid feature names, but StandardScaler was fitted with feature names\n",
      "  \"X does not have valid feature names, but\"\n",
      "C:\\Users\\Karthik\\.conda\\envs\\condamp\\lib\\site-packages\\sklearn\\base.py:451: UserWarning: X does not have valid feature names, but StandardScaler was fitted with feature names\n",
      "  \"X does not have valid feature names, but\"\n",
      "C:\\Users\\Karthik\\.conda\\envs\\condamp\\lib\\site-packages\\sklearn\\base.py:451: UserWarning: X does not have valid feature names, but StandardScaler was fitted with feature names\n",
      "  \"X does not have valid feature names, but\"\n",
      "C:\\Users\\Karthik\\.conda\\envs\\condamp\\lib\\site-packages\\sklearn\\base.py:451: UserWarning: X does not have valid feature names, but StandardScaler was fitted with feature names\n",
      "  \"X does not have valid feature names, but\"\n"
     ]
    },
    {
     "name": "stdout",
     "output_type": "stream",
     "text": [
      "Ambulance [0.28817013 0.55163968 0.10156638 0.02059482 0.03802899]\n",
      "Ambulance [0.26577482 0.50019813 0.19807699 0.02689934 0.00905073]\n"
     ]
    }
   ],
   "source": [
    "cam = cv2.VideoCapture(0)\n",
    "\n",
    "threshold = 0.4\n",
    "\n",
    "with mp_holistic.Holistic(min_detection_confidence=0.8, min_tracking_confidence=0.5) as holistic:\n",
    "    while cam.isOpened():\n",
    "        ret, frame = cam.read()\n",
    "    \n",
    "        image, results = mediapipe_detection(frame, holistic)\n",
    "        draw_landmarks(image, results)\n",
    "        \n",
    "        #print(results.right_hand_landmarks)\n",
    "\n",
    "        try:\n",
    "            pose = results.pose_landmarks.landmark\n",
    "            pose_row = list(np.array([[landmark.x, landmark.y, landmark.z, landmark.visibility] for landmark in pose]).flatten())\n",
    "    \n",
    "            right_hand = results.right_hand_landmarks.landmark\n",
    "            right_hand_row = list(np.array([[landmark.x, landmark.y, landmark.z, landmark.visibility] for landmark in right_hand]).flatten())\n",
    "    \n",
    "            left_hand = results.left_hand_landmarks.landmark\n",
    "            left_hand_row = list(np.array([[landmark.x, landmark.y, landmark.z, landmark.visibility] for landmark in left_hand]).flatten())\n",
    "     \n",
    "            row = pose_row + right_hand_row + left_hand_row\n",
    "            \n",
    "            X = pd.DataFrame([row])\n",
    "            body_language_class = model.predict(X)[0]\n",
    "            body_language_prob = model.predict_proba(X)[0]\n",
    "            print(body_language_class, body_language_prob)\n",
    "\n",
    "            '''   coords = tuple(np.multiply(\n",
    "                            np.array(\n",
    "                                (results.pose_landmarks.landmark[mp_holistic.PoseLandmark.LEFT_EAR].x, \n",
    "                                 results.pose_landmarks.landmark[mp_holistic.PoseLandmark.LEFT_EAR].y))\n",
    "                        , [640,480]).astype(int))\n",
    "            \n",
    "            cv2.rectangle(image, \n",
    "                          (coords[0], coords[1]+5), \n",
    "                          (coords[0]+len(body_language_class)*20, coords[1]-30), \n",
    "                          (245, 117, 16), -1)\n",
    "            cv2.putText(image, body_language_class, coords, \n",
    "                        cv2.FONT_HERSHEY_SIMPLEX, 1, (255, 255, 255), 2, cv2.LINE_AA)'''\n",
    "\n",
    "            \n",
    "            # Get status box\n",
    "            cv2.rectangle(image, (0,0), (640, 35), (0,0,0, 0.5), -1)\n",
    "\n",
    "            cv2.putText(image, 'Action:'\n",
    "                        , (10,25), cv2.FONT_HERSHEY_DUPLEX, 0.85, (255, 255, 255), 1, cv2.LINE_AA)\n",
    "            cv2.putText(image, body_language_class.split(' ')[0]\n",
    "                        , (110,25), cv2.FONT_HERSHEY_DUPLEX, 0.85, (255, 255, 255), 1, cv2.LINE_AA)\n",
    "            \n",
    "            # Display Probability\n",
    "            cv2.putText(image, 'Accuracy:'\n",
    "                        , (420,25), cv2.FONT_HERSHEY_DUPLEX, 0.85, (255, 255, 255), 1, cv2.LINE_AA)\n",
    "            cv2.putText(image, str(round(body_language_prob[np.argmax(body_language_prob)],2))\n",
    "                        , (560,25), cv2.FONT_HERSHEY_DUPLEX, 0.8, (255, 255, 255), 1, cv2.LINE_AA)\n",
    "        except:\n",
    "            pass\n",
    "\n",
    "\n",
    "        cv2.imshow(\"Sign Language Converter\", cv2.cvtColor(image, cv2.COLOR_BGR2RGB))\n",
    "        \n",
    "        if cv2.waitKey(10) & 0xFF == ord('q'):\n",
    "            break\n",
    "\n",
    "cam.release()\n",
    "cv2.destroyAllWindows()\n"
   ]
  },
  {
   "cell_type": "code",
   "execution_count": null,
   "id": "b297e1f5-8c84-499e-9693-f5c446064b77",
   "metadata": {},
   "outputs": [],
   "source": []
  }
 ],
 "metadata": {
  "kernelspec": {
   "display_name": "condamp",
   "language": "python",
   "name": "condamp"
  },
  "language_info": {
   "codemirror_mode": {
    "name": "ipython",
    "version": 3
   },
   "file_extension": ".py",
   "mimetype": "text/x-python",
   "name": "python",
   "nbconvert_exporter": "python",
   "pygments_lexer": "ipython3",
   "version": "3.7.2"
  }
 },
 "nbformat": 4,
 "nbformat_minor": 5
}
